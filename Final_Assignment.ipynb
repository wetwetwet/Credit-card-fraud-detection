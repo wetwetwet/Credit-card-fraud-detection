{
  "nbformat": 4,
  "nbformat_minor": 0,
  "metadata": {
    "colab": {
      "name": "Final Assignment.ipynb",
      "provenance": [],
      "collapsed_sections": [],
      "mount_file_id": "1V49yRE7uSsaiBt1TmNmQkVj6a3DoM14F",
      "authorship_tag": "ABX9TyNHJr8LdLztBa052LVwUFii",
      "include_colab_link": true
    },
    "kernelspec": {
      "name": "python3",
      "display_name": "Python 3"
    },
    "language_info": {
      "name": "python"
    },
    "accelerator": "TPU"
  },
  "cells": [
    {
      "cell_type": "markdown",
      "metadata": {
        "id": "view-in-github",
        "colab_type": "text"
      },
      "source": [
        "<a href=\"https://colab.research.google.com/github/wetwetwet/Credit-card-fraud-detection/blob/main/Final_Assignment.ipynb\" target=\"_parent\"><img src=\"https://colab.research.google.com/assets/colab-badge.svg\" alt=\"Open In Colab\"/></a>"
      ]
    },
    {
      "cell_type": "code",
      "metadata": {
        "id": "pxM1ebYWK0cT"
      },
      "source": [
        "# Final Assignment\n",
        "import pandas as pd\n",
        "import keras\n",
        "import numpy as np\n",
        "from scipy import stats"
      ],
      "execution_count": null,
      "outputs": []
    },
    {
      "cell_type": "code",
      "metadata": {
        "colab": {
          "base_uri": "https://localhost:8080/"
        },
        "id": "-i8XEdfzhdkC",
        "outputId": "a6b59cbe-ca25-48f9-b0a2-8419227cd410"
      },
      "source": [
        "from google.colab import drive\n",
        "drive.mount('/content/drive')"
      ],
      "execution_count": null,
      "outputs": [
        {
          "output_type": "stream",
          "name": "stdout",
          "text": [
            "Mounted at /content/drive\n"
          ]
        }
      ]
    },
    {
      "cell_type": "code",
      "metadata": {
        "id": "DezbesGULL4N"
      },
      "source": [
        "bank = pd.read_csv(\"/content/drive/MyDrive/AN6001/Credit Card Default.csv\")"
      ],
      "execution_count": null,
      "outputs": []
    },
    {
      "cell_type": "code",
      "metadata": {
        "colab": {
          "base_uri": "https://localhost:8080/"
        },
        "id": "a_Z55vVWLw22",
        "outputId": "f5788990-7305-4caa-9f84-58b005f7a134"
      },
      "source": [
        "print(bank)"
      ],
      "execution_count": null,
      "outputs": [
        {
          "output_type": "stream",
          "name": "stdout",
          "text": [
            "      clientid       income        age         loan  default\n",
            "0            1  66155.92510  59.017015  8106.532131        0\n",
            "1            2  34415.15397  48.117153  6564.745018        0\n",
            "2            3  57317.17006  63.108049  8020.953296        0\n",
            "3            4  42709.53420  45.751972  6103.642260        0\n",
            "4            5  66952.68885  18.584336  8770.099235        1\n",
            "...        ...          ...        ...          ...      ...\n",
            "1995      1996  59221.04487  48.518179  1926.729397        0\n",
            "1996      1997  69516.12757  23.162104  3503.176156        0\n",
            "1997      1998  44311.44926  28.017167  5522.786693        1\n",
            "1998      1999  43756.05660  63.971796  1622.722598        0\n",
            "1999      2000  69436.57955  56.152617  7378.833599        0\n",
            "\n",
            "[2000 rows x 5 columns]\n"
          ]
        }
      ]
    },
    {
      "cell_type": "markdown",
      "metadata": {
        "id": "YkcuiezhMQc3"
      },
      "source": [
        "# **Data Wrangling**"
      ]
    },
    {
      "cell_type": "code",
      "metadata": {
        "colab": {
          "base_uri": "https://localhost:8080/"
        },
        "id": "-Lhb7IkMN_Ez",
        "outputId": "0113e045-0225-4d58-e702-4f39fbf1e18c"
      },
      "source": [
        "bank.describe()"
      ],
      "execution_count": null,
      "outputs": [
        {
          "output_type": "execute_result",
          "data": {
            "text/html": [
              "<div>\n",
              "<style scoped>\n",
              "    .dataframe tbody tr th:only-of-type {\n",
              "        vertical-align: middle;\n",
              "    }\n",
              "\n",
              "    .dataframe tbody tr th {\n",
              "        vertical-align: top;\n",
              "    }\n",
              "\n",
              "    .dataframe thead th {\n",
              "        text-align: right;\n",
              "    }\n",
              "</style>\n",
              "<table border=\"1\" class=\"dataframe\">\n",
              "  <thead>\n",
              "    <tr style=\"text-align: right;\">\n",
              "      <th></th>\n",
              "      <th>clientid</th>\n",
              "      <th>income</th>\n",
              "      <th>age</th>\n",
              "      <th>loan</th>\n",
              "      <th>default</th>\n",
              "    </tr>\n",
              "  </thead>\n",
              "  <tbody>\n",
              "    <tr>\n",
              "      <th>count</th>\n",
              "      <td>2000.000000</td>\n",
              "      <td>2000.000000</td>\n",
              "      <td>1997.000000</td>\n",
              "      <td>2000.000000</td>\n",
              "      <td>2000.000000</td>\n",
              "    </tr>\n",
              "    <tr>\n",
              "      <th>mean</th>\n",
              "      <td>1000.500000</td>\n",
              "      <td>45331.600018</td>\n",
              "      <td>40.807559</td>\n",
              "      <td>4444.369695</td>\n",
              "      <td>0.141500</td>\n",
              "    </tr>\n",
              "    <tr>\n",
              "      <th>std</th>\n",
              "      <td>577.494589</td>\n",
              "      <td>14326.327119</td>\n",
              "      <td>13.624469</td>\n",
              "      <td>3045.410024</td>\n",
              "      <td>0.348624</td>\n",
              "    </tr>\n",
              "    <tr>\n",
              "      <th>min</th>\n",
              "      <td>1.000000</td>\n",
              "      <td>20014.489470</td>\n",
              "      <td>-52.423280</td>\n",
              "      <td>1.377630</td>\n",
              "      <td>0.000000</td>\n",
              "    </tr>\n",
              "    <tr>\n",
              "      <th>25%</th>\n",
              "      <td>500.750000</td>\n",
              "      <td>32796.459720</td>\n",
              "      <td>28.990415</td>\n",
              "      <td>1939.708847</td>\n",
              "      <td>0.000000</td>\n",
              "    </tr>\n",
              "    <tr>\n",
              "      <th>50%</th>\n",
              "      <td>1000.500000</td>\n",
              "      <td>45789.117310</td>\n",
              "      <td>41.317159</td>\n",
              "      <td>3974.719418</td>\n",
              "      <td>0.000000</td>\n",
              "    </tr>\n",
              "    <tr>\n",
              "      <th>75%</th>\n",
              "      <td>1500.250000</td>\n",
              "      <td>57791.281670</td>\n",
              "      <td>52.587040</td>\n",
              "      <td>6432.410625</td>\n",
              "      <td>0.000000</td>\n",
              "    </tr>\n",
              "    <tr>\n",
              "      <th>max</th>\n",
              "      <td>2000.000000</td>\n",
              "      <td>69995.685580</td>\n",
              "      <td>63.971796</td>\n",
              "      <td>13766.051240</td>\n",
              "      <td>1.000000</td>\n",
              "    </tr>\n",
              "  </tbody>\n",
              "</table>\n",
              "</div>"
            ],
            "text/plain": [
              "          clientid        income          age          loan      default\n",
              "count  2000.000000   2000.000000  1997.000000   2000.000000  2000.000000\n",
              "mean   1000.500000  45331.600018    40.807559   4444.369695     0.141500\n",
              "std     577.494589  14326.327119    13.624469   3045.410024     0.348624\n",
              "min       1.000000  20014.489470   -52.423280      1.377630     0.000000\n",
              "25%     500.750000  32796.459720    28.990415   1939.708847     0.000000\n",
              "50%    1000.500000  45789.117310    41.317159   3974.719418     0.000000\n",
              "75%    1500.250000  57791.281670    52.587040   6432.410625     0.000000\n",
              "max    2000.000000  69995.685580    63.971796  13766.051240     1.000000"
            ]
          },
          "metadata": {},
          "execution_count": 5
        }
      ]
    },
    {
      "cell_type": "code",
      "metadata": {
        "colab": {
          "base_uri": "https://localhost:8080/"
        },
        "id": "e2wNYmiYOmW5",
        "outputId": "29e80e3a-8664-4191-ffa4-62b78cfd4bab"
      },
      "source": [
        "# Remove people who's age is smaller than 18, since people who's under the age limit(i.e. 18) cannot have jobs and income.\n",
        "bank_clean = bank[bank.loc[:,\"age\"]>=18]\n",
        "print(bank_clean.age.describe())\n",
        "print(bank_clean.describe())"
      ],
      "execution_count": null,
      "outputs": [
        {
          "output_type": "stream",
          "name": "stdout",
          "text": [
            "count    1994.000000\n",
            "mean       40.927700\n",
            "std        13.271802\n",
            "min        18.055189\n",
            "25%        29.043284\n",
            "50%        41.382673\n",
            "75%        52.616900\n",
            "max        63.971796\n",
            "Name: age, dtype: float64\n",
            "          clientid        income          age          loan      default\n",
            "count  1994.000000   1994.000000  1994.000000   1994.000000  1994.000000\n",
            "mean   1003.431795  45328.856915    40.927700   4443.240892     0.141926\n",
            "std     575.879624  14326.777212    13.271802   3046.879619     0.349062\n",
            "min       1.000000  20014.489470    18.055189      1.377630     0.000000\n",
            "25%     505.250000  32812.340053    29.043284   1934.218490     0.000000\n",
            "50%    1003.500000  45785.950925    41.382673   3971.653442     0.000000\n",
            "75%    1501.750000  57782.054535    52.616900   6438.044498     0.000000\n",
            "max    2000.000000  69995.685580    63.971796  13766.051240     1.000000\n"
          ]
        }
      ]
    },
    {
      "cell_type": "code",
      "metadata": {
        "colab": {
          "base_uri": "https://localhost:8080/"
        },
        "id": "llK2CG1DQDMt",
        "outputId": "3cb1432f-27a8-44b3-b0de-7ad83f66d17e"
      },
      "source": [
        "# Remove meaningless columns(i.e. the Client ID)\n",
        "bank_clean = bank_clean.iloc[:,1:5]\n",
        "print(bank_clean)"
      ],
      "execution_count": null,
      "outputs": [
        {
          "output_type": "stream",
          "name": "stdout",
          "text": [
            "           income        age         loan  default\n",
            "0     66155.92510  59.017015  8106.532131        0\n",
            "1     34415.15397  48.117153  6564.745018        0\n",
            "2     57317.17006  63.108049  8020.953296        0\n",
            "3     42709.53420  45.751972  6103.642260        0\n",
            "4     66952.68885  18.584336  8770.099235        1\n",
            "...           ...        ...          ...      ...\n",
            "1995  59221.04487  48.518179  1926.729397        0\n",
            "1996  69516.12757  23.162104  3503.176156        0\n",
            "1997  44311.44926  28.017167  5522.786693        1\n",
            "1998  43756.05660  63.971796  1622.722598        0\n",
            "1999  69436.57955  56.152617  7378.833599        0\n",
            "\n",
            "[1994 rows x 4 columns]\n"
          ]
        }
      ]
    },
    {
      "cell_type": "code",
      "metadata": {
        "id": "UNkIbalsNT8E"
      },
      "source": [
        "# Drop NAs\n",
        "bank_clean = bank_clean.dropna()"
      ],
      "execution_count": null,
      "outputs": []
    },
    {
      "cell_type": "code",
      "metadata": {
        "colab": {
          "base_uri": "https://localhost:8080/"
        },
        "id": "TMdyq5r9N9u2",
        "outputId": "a4f06a16-768f-4bd1-97a9-19e509a0885e"
      },
      "source": [
        "bank_clean.isna().any()"
      ],
      "execution_count": null,
      "outputs": [
        {
          "output_type": "execute_result",
          "data": {
            "text/plain": [
              "income     False\n",
              "age        False\n",
              "loan       False\n",
              "default    False\n",
              "dtype: bool"
            ]
          },
          "metadata": {},
          "execution_count": 9
        }
      ]
    },
    {
      "cell_type": "code",
      "metadata": {
        "colab": {
          "base_uri": "https://localhost:8080/"
        },
        "id": "7ZRG5sSMZKnL",
        "outputId": "06f9447d-aea7-437f-9ab1-3502a0c571bd"
      },
      "source": [
        "# Drop NaN\n",
        "bank_clean.isnull().values.any()"
      ],
      "execution_count": null,
      "outputs": [
        {
          "output_type": "execute_result",
          "data": {
            "text/plain": [
              "False"
            ]
          },
          "metadata": {},
          "execution_count": 10
        }
      ]
    },
    {
      "cell_type": "code",
      "metadata": {
        "colab": {
          "base_uri": "https://localhost:8080/"
        },
        "id": "pRJaYlKQSG2T",
        "outputId": "8e84668a-df6f-4278-ab53-e07c58895989"
      },
      "source": [
        "bank_clean.describe()"
      ],
      "execution_count": null,
      "outputs": [
        {
          "output_type": "execute_result",
          "data": {
            "text/html": [
              "<div>\n",
              "<style scoped>\n",
              "    .dataframe tbody tr th:only-of-type {\n",
              "        vertical-align: middle;\n",
              "    }\n",
              "\n",
              "    .dataframe tbody tr th {\n",
              "        vertical-align: top;\n",
              "    }\n",
              "\n",
              "    .dataframe thead th {\n",
              "        text-align: right;\n",
              "    }\n",
              "</style>\n",
              "<table border=\"1\" class=\"dataframe\">\n",
              "  <thead>\n",
              "    <tr style=\"text-align: right;\">\n",
              "      <th></th>\n",
              "      <th>income</th>\n",
              "      <th>age</th>\n",
              "      <th>loan</th>\n",
              "      <th>default</th>\n",
              "    </tr>\n",
              "  </thead>\n",
              "  <tbody>\n",
              "    <tr>\n",
              "      <th>count</th>\n",
              "      <td>1994.000000</td>\n",
              "      <td>1994.000000</td>\n",
              "      <td>1994.000000</td>\n",
              "      <td>1994.000000</td>\n",
              "    </tr>\n",
              "    <tr>\n",
              "      <th>mean</th>\n",
              "      <td>45328.856915</td>\n",
              "      <td>40.927700</td>\n",
              "      <td>4443.240892</td>\n",
              "      <td>0.141926</td>\n",
              "    </tr>\n",
              "    <tr>\n",
              "      <th>std</th>\n",
              "      <td>14326.777212</td>\n",
              "      <td>13.271802</td>\n",
              "      <td>3046.879619</td>\n",
              "      <td>0.349062</td>\n",
              "    </tr>\n",
              "    <tr>\n",
              "      <th>min</th>\n",
              "      <td>20014.489470</td>\n",
              "      <td>18.055189</td>\n",
              "      <td>1.377630</td>\n",
              "      <td>0.000000</td>\n",
              "    </tr>\n",
              "    <tr>\n",
              "      <th>25%</th>\n",
              "      <td>32812.340053</td>\n",
              "      <td>29.043284</td>\n",
              "      <td>1934.218490</td>\n",
              "      <td>0.000000</td>\n",
              "    </tr>\n",
              "    <tr>\n",
              "      <th>50%</th>\n",
              "      <td>45785.950925</td>\n",
              "      <td>41.382673</td>\n",
              "      <td>3971.653442</td>\n",
              "      <td>0.000000</td>\n",
              "    </tr>\n",
              "    <tr>\n",
              "      <th>75%</th>\n",
              "      <td>57782.054535</td>\n",
              "      <td>52.616900</td>\n",
              "      <td>6438.044498</td>\n",
              "      <td>0.000000</td>\n",
              "    </tr>\n",
              "    <tr>\n",
              "      <th>max</th>\n",
              "      <td>69995.685580</td>\n",
              "      <td>63.971796</td>\n",
              "      <td>13766.051240</td>\n",
              "      <td>1.000000</td>\n",
              "    </tr>\n",
              "  </tbody>\n",
              "</table>\n",
              "</div>"
            ],
            "text/plain": [
              "             income          age          loan      default\n",
              "count   1994.000000  1994.000000   1994.000000  1994.000000\n",
              "mean   45328.856915    40.927700   4443.240892     0.141926\n",
              "std    14326.777212    13.271802   3046.879619     0.349062\n",
              "min    20014.489470    18.055189      1.377630     0.000000\n",
              "25%    32812.340053    29.043284   1934.218490     0.000000\n",
              "50%    45785.950925    41.382673   3971.653442     0.000000\n",
              "75%    57782.054535    52.616900   6438.044498     0.000000\n",
              "max    69995.685580    63.971796  13766.051240     1.000000"
            ]
          },
          "metadata": {},
          "execution_count": 11
        }
      ]
    },
    {
      "cell_type": "code",
      "metadata": {
        "id": "5dIHabUpWTfS"
      },
      "source": [
        "# Normalization"
      ],
      "execution_count": null,
      "outputs": []
    },
    {
      "cell_type": "code",
      "metadata": {
        "colab": {
          "base_uri": "https://localhost:8080/"
        },
        "id": "EQuYTc3uWSwx",
        "outputId": "41dfb46f-c35f-4de3-bdbb-5225480430f6"
      },
      "source": [
        "bank_clean[\"income\"]=stats.zscore(bank_clean[\"income\"].astype(np.float))\n",
        "print(bank_clean)"
      ],
      "execution_count": null,
      "outputs": [
        {
          "output_type": "stream",
          "name": "stdout",
          "text": [
            "        income        age         loan  default\n",
            "0     1.454081  59.017015  8106.532131        0\n",
            "1    -0.761961  48.117153  6564.745018        0\n",
            "2     0.836987  63.108049  8020.953296        0\n",
            "3    -0.182873  45.751972  6103.642260        0\n",
            "4     1.509708  18.584336  8770.099235        1\n",
            "...        ...        ...          ...      ...\n",
            "1995  0.969909  48.518179  1926.729397        0\n",
            "1996  1.688680  23.162104  3503.176156        0\n",
            "1997 -0.071032  28.017167  5522.786693        1\n",
            "1998 -0.109808  63.971796  1622.722598        0\n",
            "1999  1.683126  56.152617  7378.833599        0\n",
            "\n",
            "[1994 rows x 4 columns]\n"
          ]
        }
      ]
    },
    {
      "cell_type": "code",
      "metadata": {
        "colab": {
          "base_uri": "https://localhost:8080/"
        },
        "id": "AE1jjlwnWr9F",
        "outputId": "7dbfe154-8ba2-4f46-a938-955b2a32275a"
      },
      "source": [
        "bank_clean[\"loan\"]=stats.zscore(bank_clean[\"loan\"].astype(np.float))\n",
        "print(bank_clean)"
      ],
      "execution_count": null,
      "outputs": [
        {
          "output_type": "stream",
          "name": "stdout",
          "text": [
            "        income        age      loan  default\n",
            "0     1.454081  59.017015  1.202611        0\n",
            "1    -0.761961  48.117153  0.696462        0\n",
            "2     0.836987  63.108049  1.174516        0\n",
            "3    -0.182873  45.751972  0.545088        0\n",
            "4     1.509708  18.584336  1.420451        1\n",
            "...        ...        ...       ...      ...\n",
            "1995  0.969909  48.518179 -0.826138        0\n",
            "1996  1.688680  23.162104 -0.308611        0\n",
            "1997 -0.071032  28.017167  0.354401        1\n",
            "1998 -0.109808  63.971796 -0.925939        0\n",
            "1999  1.683126  56.152617  0.963717        0\n",
            "\n",
            "[1994 rows x 4 columns]\n"
          ]
        }
      ]
    },
    {
      "cell_type": "code",
      "metadata": {
        "id": "WfmWf7HrXPlY"
      },
      "source": [
        "# Remove Outlier"
      ],
      "execution_count": null,
      "outputs": []
    },
    {
      "cell_type": "code",
      "metadata": {
        "colab": {
          "base_uri": "https://localhost:8080/"
        },
        "id": "bJ78I0oxXRSL",
        "outputId": "6bd71a5f-6574-460a-c540-9a55f0b55e23"
      },
      "source": [
        "z = stats.zscore(bank_clean.astype(np.float))\n",
        "print(z)\n",
        "abs_z = np.abs(z)\n",
        "filtered = (abs_z < 3).all(axis=1)\n",
        "bank_clean = bank_clean[filtered]\n",
        "\n",
        "print(bank_clean)  # Remain (1993, 4)"
      ],
      "execution_count": null,
      "outputs": [
        {
          "output_type": "stream",
          "name": "stdout",
          "text": [
            "[[ 1.45408086  1.36333045  1.20261074 -0.40669442]\n",
            " [-0.76196066  0.54184472  0.69646214 -0.40669442]\n",
            " [ 0.83698659  1.67165787  1.17451633 -0.40669442]\n",
            " ...\n",
            " [-0.07103223 -0.97302324  0.35440081  2.45884859]\n",
            " [-0.10980801  1.73675551 -0.92593938 -0.40669442]\n",
            " [ 1.68312591  1.14745046  0.9637168  -0.40669442]]\n",
            "        income        age      loan  default\n",
            "0     1.454081  59.017015  1.202611        0\n",
            "1    -0.761961  48.117153  0.696462        0\n",
            "2     0.836987  63.108049  1.174516        0\n",
            "3    -0.182873  45.751972  0.545088        0\n",
            "4     1.509708  18.584336  1.420451        1\n",
            "...        ...        ...       ...      ...\n",
            "1995  0.969909  48.518179 -0.826138        0\n",
            "1996  1.688680  23.162104 -0.308611        0\n",
            "1997 -0.071032  28.017167  0.354401        1\n",
            "1998 -0.109808  63.971796 -0.925939        0\n",
            "1999  1.683126  56.152617  0.963717        0\n",
            "\n",
            "[1993 rows x 4 columns]\n"
          ]
        }
      ]
    },
    {
      "cell_type": "code",
      "metadata": {
        "colab": {
          "base_uri": "https://localhost:8080/"
        },
        "id": "p4m25Wl2aNHv",
        "outputId": "c74107a1-4dca-4276-e94a-a62ba75254d9"
      },
      "source": [
        "bank_clean.describe()\n",
        "# No categorical variables, so need not convert to dummy variables"
      ],
      "execution_count": null,
      "outputs": [
        {
          "output_type": "execute_result",
          "data": {
            "text/html": [
              "<div>\n",
              "<style scoped>\n",
              "    .dataframe tbody tr th:only-of-type {\n",
              "        vertical-align: middle;\n",
              "    }\n",
              "\n",
              "    .dataframe tbody tr th {\n",
              "        vertical-align: top;\n",
              "    }\n",
              "\n",
              "    .dataframe thead th {\n",
              "        text-align: right;\n",
              "    }\n",
              "</style>\n",
              "<table border=\"1\" class=\"dataframe\">\n",
              "  <thead>\n",
              "    <tr style=\"text-align: right;\">\n",
              "      <th></th>\n",
              "      <th>income</th>\n",
              "      <th>age</th>\n",
              "      <th>loan</th>\n",
              "      <th>default</th>\n",
              "    </tr>\n",
              "  </thead>\n",
              "  <tbody>\n",
              "    <tr>\n",
              "      <th>count</th>\n",
              "      <td>1993.000000</td>\n",
              "      <td>1993.000000</td>\n",
              "      <td>1993.000000</td>\n",
              "      <td>1993.000000</td>\n",
              "    </tr>\n",
              "    <tr>\n",
              "      <th>mean</th>\n",
              "      <td>-0.000856</td>\n",
              "      <td>40.925886</td>\n",
              "      <td>-0.001536</td>\n",
              "      <td>0.141997</td>\n",
              "    </tr>\n",
              "    <tr>\n",
              "      <th>std</th>\n",
              "      <td>0.999772</td>\n",
              "      <td>13.274886</td>\n",
              "      <td>0.998148</td>\n",
              "      <td>0.349135</td>\n",
              "    </tr>\n",
              "    <tr>\n",
              "      <th>min</th>\n",
              "      <td>-1.767370</td>\n",
              "      <td>18.055189</td>\n",
              "      <td>-1.458206</td>\n",
              "      <td>0.000000</td>\n",
              "    </tr>\n",
              "    <tr>\n",
              "      <th>25%</th>\n",
              "      <td>-0.874383</td>\n",
              "      <td>29.033679</td>\n",
              "      <td>-0.823963</td>\n",
              "      <td>0.000000</td>\n",
              "    </tr>\n",
              "    <tr>\n",
              "      <th>50%</th>\n",
              "      <td>0.031718</td>\n",
              "      <td>41.353171</td>\n",
              "      <td>-0.154979</td>\n",
              "      <td>0.000000</td>\n",
              "    </tr>\n",
              "    <tr>\n",
              "      <th>75%</th>\n",
              "      <td>0.868289</td>\n",
              "      <td>52.626853</td>\n",
              "      <td>0.652094</td>\n",
              "      <td>0.000000</td>\n",
              "    </tr>\n",
              "    <tr>\n",
              "      <th>max</th>\n",
              "      <td>1.722161</td>\n",
              "      <td>63.971796</td>\n",
              "      <td>2.954659</td>\n",
              "      <td>1.000000</td>\n",
              "    </tr>\n",
              "  </tbody>\n",
              "</table>\n",
              "</div>"
            ],
            "text/plain": [
              "            income          age         loan      default\n",
              "count  1993.000000  1993.000000  1993.000000  1993.000000\n",
              "mean     -0.000856    40.925886    -0.001536     0.141997\n",
              "std       0.999772    13.274886     0.998148     0.349135\n",
              "min      -1.767370    18.055189    -1.458206     0.000000\n",
              "25%      -0.874383    29.033679    -0.823963     0.000000\n",
              "50%       0.031718    41.353171    -0.154979     0.000000\n",
              "75%       0.868289    52.626853     0.652094     0.000000\n",
              "max       1.722161    63.971796     2.954659     1.000000"
            ]
          },
          "metadata": {},
          "execution_count": 17
        }
      ]
    },
    {
      "cell_type": "markdown",
      "metadata": {
        "id": "74SeRfXzXdtk"
      },
      "source": [
        "# Check Correlation"
      ]
    },
    {
      "cell_type": "code",
      "metadata": {
        "colab": {
          "base_uri": "https://localhost:8080/"
        },
        "id": "cHR6fn-oXgrc",
        "outputId": "fa7c9490-e809-469d-d09d-b85d66ecf72f"
      },
      "source": [
        "bank_clean.corr()"
      ],
      "execution_count": null,
      "outputs": [
        {
          "output_type": "execute_result",
          "data": {
            "text/html": [
              "<div>\n",
              "<style scoped>\n",
              "    .dataframe tbody tr th:only-of-type {\n",
              "        vertical-align: middle;\n",
              "    }\n",
              "\n",
              "    .dataframe tbody tr th {\n",
              "        vertical-align: top;\n",
              "    }\n",
              "\n",
              "    .dataframe thead th {\n",
              "        text-align: right;\n",
              "    }\n",
              "</style>\n",
              "<table border=\"1\" class=\"dataframe\">\n",
              "  <thead>\n",
              "    <tr style=\"text-align: right;\">\n",
              "      <th></th>\n",
              "      <th>income</th>\n",
              "      <th>age</th>\n",
              "      <th>loan</th>\n",
              "      <th>default</th>\n",
              "    </tr>\n",
              "  </thead>\n",
              "  <tbody>\n",
              "    <tr>\n",
              "      <th>income</th>\n",
              "      <td>1.000000</td>\n",
              "      <td>-0.033514</td>\n",
              "      <td>0.439811</td>\n",
              "      <td>0.002716</td>\n",
              "    </tr>\n",
              "    <tr>\n",
              "      <th>age</th>\n",
              "      <td>-0.033514</td>\n",
              "      <td>1.000000</td>\n",
              "      <td>0.006282</td>\n",
              "      <td>-0.445219</td>\n",
              "    </tr>\n",
              "    <tr>\n",
              "      <th>loan</th>\n",
              "      <td>0.439811</td>\n",
              "      <td>0.006282</td>\n",
              "      <td>1.000000</td>\n",
              "      <td>0.379322</td>\n",
              "    </tr>\n",
              "    <tr>\n",
              "      <th>default</th>\n",
              "      <td>0.002716</td>\n",
              "      <td>-0.445219</td>\n",
              "      <td>0.379322</td>\n",
              "      <td>1.000000</td>\n",
              "    </tr>\n",
              "  </tbody>\n",
              "</table>\n",
              "</div>"
            ],
            "text/plain": [
              "           income       age      loan   default\n",
              "income   1.000000 -0.033514  0.439811  0.002716\n",
              "age     -0.033514  1.000000  0.006282 -0.445219\n",
              "loan     0.439811  0.006282  1.000000  0.379322\n",
              "default  0.002716 -0.445219  0.379322  1.000000"
            ]
          },
          "metadata": {},
          "execution_count": 18
        }
      ]
    },
    {
      "cell_type": "code",
      "metadata": {
        "id": "4QCcAy8PX5s4"
      },
      "source": [
        "# pip install seaborn"
      ],
      "execution_count": null,
      "outputs": []
    },
    {
      "cell_type": "code",
      "metadata": {
        "colab": {
          "base_uri": "https://localhost:8080/"
        },
        "id": "NGe5mfYKXtcM",
        "outputId": "d8b12f73-110d-4de7-a68a-8fde6ed5f6c4"
      },
      "source": [
        "import seaborn as sns\n",
        "sns.heatmap(bank_clean.corr())"
      ],
      "execution_count": null,
      "outputs": [
        {
          "output_type": "execute_result",
          "data": {
            "text/plain": [
              "<matplotlib.axes._subplots.AxesSubplot at 0x7f05b2f3cdd0>"
            ]
          },
          "metadata": {},
          "execution_count": 20
        },
        {
          "output_type": "display_data",
          "data": {
            "image/png": "[encoded data removed]",
            "text/plain": [
              "<Figure size 432x288 with 2 Axes>"
            ]
          },
          "metadata": {
            "needs_background": "light"
          }
        }
      ]
    },
    {
      "cell_type": "code",
      "metadata": {
        "colab": {
          "base_uri": "https://localhost:8080/"
        },
        "id": "HxuueOJMaZrb",
        "outputId": "30c8f082-60c3-4f36-c771-ebdc49883633"
      },
      "source": [
        "X = bank_clean.iloc[:, 0:3]\n",
        "Y = bank_clean.iloc[:, 3]\n",
        "print(X,Y)"
      ],
      "execution_count": null,
      "outputs": [
        {
          "output_type": "stream",
          "name": "stdout",
          "text": [
            "        income        age      loan\n",
            "0     1.454081  59.017015  1.202611\n",
            "1    -0.761961  48.117153  0.696462\n",
            "2     0.836987  63.108049  1.174516\n",
            "3    -0.182873  45.751972  0.545088\n",
            "4     1.509708  18.584336  1.420451\n",
            "...        ...        ...       ...\n",
            "1995  0.969909  48.518179 -0.826138\n",
            "1996  1.688680  23.162104 -0.308611\n",
            "1997 -0.071032  28.017167  0.354401\n",
            "1998 -0.109808  63.971796 -0.925939\n",
            "1999  1.683126  56.152617  0.963717\n",
            "\n",
            "[1993 rows x 3 columns] 0       0\n",
            "1       0\n",
            "2       0\n",
            "3       0\n",
            "4       1\n",
            "       ..\n",
            "1995    0\n",
            "1996    0\n",
            "1997    1\n",
            "1998    0\n",
            "1999    0\n",
            "Name: default, Length: 1993, dtype: int64\n"
          ]
        }
      ]
    },
    {
      "cell_type": "markdown",
      "metadata": {
        "id": "RpcMrPT8VAA7"
      },
      "source": [
        "# **Train-Test Split**"
      ]
    },
    {
      "cell_type": "code",
      "metadata": {
        "id": "qfHG0a8CNGh9"
      },
      "source": [
        "from sklearn.model_selection import train_test_split"
      ],
      "execution_count": null,
      "outputs": []
    },
    {
      "cell_type": "code",
      "metadata": {
        "id": "Ku2q6HYfTBKy"
      },
      "source": [
        "X_train, X_test, Y_train, Y_test = train_test_split(X,Y, test_size=0.3)"
      ],
      "execution_count": null,
      "outputs": []
    },
    {
      "cell_type": "code",
      "metadata": {
        "colab": {
          "base_uri": "https://localhost:8080/"
        },
        "id": "RBNlZ38fUkMR",
        "outputId": "d3ffe7e3-bbb7-4473-e31d-9e4cb2a9d0e1"
      },
      "source": [
        "print(X_train, X_test, Y_train, Y_test)"
      ],
      "execution_count": null,
      "outputs": [
        {
          "output_type": "stream",
          "name": "stdout",
          "text": [
            "        income        age      loan\n",
            "710   0.736901  27.370338 -1.138722\n",
            "1221 -1.167105  58.861690  0.165866\n",
            "1706  0.409896  22.403577 -0.124231\n",
            "293  -0.954483  37.778664 -0.983275\n",
            "1664 -1.285077  44.155571 -0.161924\n",
            "...        ...        ...       ...\n",
            "1173 -1.329137  52.401543 -1.099454\n",
            "250  -1.662767  24.779528 -0.653247\n",
            "67   -1.018841  22.242098  0.493606\n",
            "1290 -0.125169  27.866907  0.651481\n",
            "306  -0.095754  21.144849  0.319462\n",
            "\n",
            "[1395 rows x 3 columns]         income        age      loan\n",
            "1775 -1.191199  54.646277 -1.141739\n",
            "925  -1.009248  38.952740 -0.120273\n",
            "1878 -1.461017  52.027597 -1.425429\n",
            "235   0.763679  22.486136  0.947437\n",
            "152   1.417758  51.167714  2.711113\n",
            "...        ...        ...       ...\n",
            "1629 -0.178266  39.227083  0.558990\n",
            "1321 -0.583564  33.704599 -1.042224\n",
            "979   1.222717  62.197079 -1.423335\n",
            "364  -0.710342  52.899213 -0.133127\n",
            "1525  0.480113  24.640144 -1.086002\n",
            "\n",
            "[598 rows x 3 columns] 710     0\n",
            "1221    0\n",
            "1706    0\n",
            "293     0\n",
            "1664    0\n",
            "       ..\n",
            "1173    0\n",
            "250     0\n",
            "67      1\n",
            "1290    1\n",
            "306     1\n",
            "Name: default, Length: 1395, dtype: int64 1775    0\n",
            "925     0\n",
            "1878    0\n",
            "235     1\n",
            "152     0\n",
            "       ..\n",
            "1629    0\n",
            "1321    0\n",
            "979     0\n",
            "364     0\n",
            "1525    0\n",
            "Name: default, Length: 598, dtype: int64\n"
          ]
        }
      ]
    },
    {
      "cell_type": "code",
      "metadata": {
        "colab": {
          "base_uri": "https://localhost:8080/"
        },
        "id": "ULMHseAeVKaF",
        "outputId": "7387780f-6d1c-411f-95b1-e5d98863b653"
      },
      "source": [
        "# Check whether the dependent variable of train dataset is balanced or not\n",
        "sns.countplot(Y_train)\n",
        "# Imbalanced, needs resampling"
      ],
      "execution_count": null,
      "outputs": [
        {
          "output_type": "stream",
          "name": "stderr",
          "text": [
            "/usr/local/lib/python3.7/dist-packages/seaborn/_decorators.py:43: FutureWarning: Pass the following variable as a keyword arg: x. From version 0.12, the only valid positional argument will be `data`, and passing other arguments without an explicit keyword will result in an error or misinterpretation.\n",
            "  FutureWarning\n"
          ]
        },
        {
          "output_type": "execute_result",
          "data": {
            "text/plain": [
              "<matplotlib.axes._subplots.AxesSubplot at 0x7f05a8c6cc90>"
            ]
          },
          "metadata": {},
          "execution_count": 25
        },
        {
          "output_type": "display_data",
          "data": {
            "image/png": "[encoded data removed]",
            "text/plain": [
              "<Figure size 432x288 with 1 Axes>"
            ]
          },
          "metadata": {
            "needs_background": "light"
          }
        }
      ]
    },
    {
      "cell_type": "code",
      "metadata": {
        "colab": {
          "base_uri": "https://localhost:8080/"
        },
        "id": "KdT9O56vk8Uv",
        "outputId": "513ef6d5-a318-4e8c-df5c-8d0e8dd22aab"
      },
      "source": [
        "Y1_num = Y_train[Y_train.iloc[:]==1].count()\n",
        "Y0_num = Y_train[Y_train.iloc[:]==0].count()\n",
        "print(round(Y1_num/(Y0_num+Y1_num),4))\n",
        "print(round(Y0_num/(Y0_num+Y1_num),4))\n",
        "# The original proportion of default rate in the train dataset is 13.62%\n",
        "# The Non-default rate in the train dataset is 86.38%"
      ],
      "execution_count": null,
      "outputs": [
        {
          "output_type": "stream",
          "name": "stdout",
          "text": [
            "0.1448\n",
            "0.8552\n"
          ]
        }
      ]
    },
    {
      "cell_type": "code",
      "metadata": {
        "colab": {
          "base_uri": "https://localhost:8080/"
        },
        "id": "PKvtqgdDX3B2",
        "outputId": "b0bbc40f-f2a8-45fd-8d52-9be8078fc3f6"
      },
      "source": [
        "## Oversampling\n",
        "from imblearn.over_sampling import RandomOverSampler\n",
        "\n",
        "os = RandomOverSampler(random_state=6001)\n",
        "os.fit(X_train, Y_train)\n",
        "X_resampled, Y_resampled = os.fit_resample(X_train, Y_train)\n",
        "sns.countplot(Y_resampled)\n",
        "# Now the train dataset is balanced"
      ],
      "execution_count": null,
      "outputs": [
        {
          "output_type": "stream",
          "name": "stderr",
          "text": [
            "/usr/local/lib/python3.7/dist-packages/sklearn/externals/six.py:31: FutureWarning: The module is deprecated in version 0.21 and will be removed in version 0.23 since we've dropped support for Python 2.7. Please rely on the official version of six (https://pypi.org/project/six/).\n",
            "  \"(https://pypi.org/project/six/).\", FutureWarning)\n",
            "/usr/local/lib/python3.7/dist-packages/sklearn/utils/deprecation.py:144: FutureWarning: The sklearn.neighbors.base module is  deprecated in version 0.22 and will be removed in version 0.24. The corresponding classes / functions should instead be imported from sklearn.neighbors. Anything that cannot be imported from sklearn.neighbors is now part of the private API.\n",
            "  warnings.warn(message, FutureWarning)\n",
            "/usr/local/lib/python3.7/dist-packages/sklearn/utils/deprecation.py:87: FutureWarning: Function safe_indexing is deprecated; safe_indexing is deprecated in version 0.22 and will be removed in version 0.24.\n",
            "  warnings.warn(msg, category=FutureWarning)\n",
            "/usr/local/lib/python3.7/dist-packages/seaborn/_decorators.py:43: FutureWarning: Pass the following variable as a keyword arg: x. From version 0.12, the only valid positional argument will be `data`, and passing other arguments without an explicit keyword will result in an error or misinterpretation.\n",
            "  FutureWarning\n"
          ]
        },
        {
          "output_type": "execute_result",
          "data": {
            "text/plain": [
              "<matplotlib.axes._subplots.AxesSubplot at 0x7f05a63d6550>"
            ]
          },
          "metadata": {},
          "execution_count": 27
        },
        {
          "output_type": "display_data",
          "data": {
            "image/png": "[encoded data removed]",
            "text/plain": [
              "<Figure size 432x288 with 1 Axes>"
            ]
          },
          "metadata": {
            "needs_background": "light"
          }
        }
      ]
    },
    {
      "cell_type": "code",
      "metadata": {
        "id": "LI3z9csoTfaK"
      },
      "source": [
        "X_resampled = pd.DataFrame(X_resampled)\n",
        "Y_resampled = pd.DataFrame(Y_resampled)"
      ],
      "execution_count": null,
      "outputs": []
    },
    {
      "cell_type": "code",
      "metadata": {
        "id": "i1fCIVo_TSt9"
      },
      "source": [
        "XY_resampled = pd.concat([X_resampled,Y_resampled], axis=1)"
      ],
      "execution_count": null,
      "outputs": []
    },
    {
      "cell_type": "markdown",
      "metadata": {
        "id": "BLlQYeycVdYb"
      },
      "source": [
        "# **NN**"
      ]
    },
    {
      "cell_type": "code",
      "metadata": {
        "id": "ycVtfTTGTElw"
      },
      "source": [
        "from keras.models import Sequential\n",
        "from keras.layers import Dense, Dropout\n",
        "from sklearn.metrics import confusion_matrix, classification_report\n",
        "from sklearn.model_selection import KFold\n",
        "from keras.wrappers.scikit_learn import KerasClassifier\n",
        "from sklearn.model_selection import cross_val_score\n",
        "from sklearn.datasets import make_classification\n",
        "\n",
        "np.random.seed(6001)"
      ],
      "execution_count": null,
      "outputs": []
    },
    {
      "cell_type": "code",
      "metadata": {
        "id": "xT4V7J3WO-eS"
      },
      "source": [
        "import matplotlib.pyplot as plt"
      ],
      "execution_count": null,
      "outputs": []
    },
    {
      "cell_type": "code",
      "metadata": {
        "colab": {
          "base_uri": "https://localhost:8080/"
        },
        "id": "QFRfB_9Bj8Y0",
        "outputId": "d8100bcb-70ca-4b52-f7fa-152b2f9fb888"
      },
      "source": [
        "# 5-fold Cross Validation\n",
        "kf = KFold(n_splits=5, random_state=6001, shuffle=True)\n",
        "kf"
      ],
      "execution_count": null,
      "outputs": [
        {
          "output_type": "execute_result",
          "data": {
            "text/plain": [
              "KFold(n_splits=5, random_state=6001, shuffle=True)"
            ]
          },
          "metadata": {},
          "execution_count": 32
        }
      ]
    },
    {
      "cell_type": "code",
      "metadata": {
        "colab": {
          "base_uri": "https://localhost:8080/",
          "height": 1000
        },
        "id": "TD317zv_FS7W",
        "outputId": "547bb0f2-b802-4aa1-e483-36649a3ecb05"
      },
      "source": [
        "fold_no = 1\n",
        "loss_per_fold =[]\n",
        "acc_per_fold = []\n",
        "\n",
        "for trainIndex, validIndex in kf.split(XY_resampled):\n",
        "  # Define the model \n",
        "  model_NN = Sequential()\n",
        "\n",
        "  model_NN.add(Dense(10, input_dim=3, activation = \"relu\"))\n",
        "  model_NN.add(Dropout(0.2))\n",
        "\n",
        "  model_NN.add(Dense(8, activation = \"relu\"))\n",
        "  model_NN.add(Dropout(0.3))\n",
        "\n",
        "  model_NN.add(Dense(6, activation = \"relu\"))\n",
        "  model_NN.add(Dropout(0.3))\n",
        "\n",
        "  model_NN.add(Dense(1, activation = \"sigmoid\"))\n",
        "\n",
        "  model_NN.compile(loss = 'binary_crossentropy', optimizer = \"Adam\", metrics = [\"accuracy\"])\n",
        "\n",
        "  # Generate a print\n",
        "  print('-'*50)\n",
        "  print(f'Training for fold {fold_no} ...')\n",
        "\n",
        "  # Fit training data to model\n",
        "  history = model_NN.fit(XY_resampled.iloc[trainIndex,0:3], XY_resampled.iloc[trainIndex,3],\n",
        "              batch_size=32,\n",
        "              epochs=30,\n",
        "              verbose=1)\n",
        "  # Fit validation data to model\n",
        "  history_Valid = model_NN.fit(XY_resampled.iloc[validIndex,0:3], XY_resampled.iloc[validIndex,3],\n",
        "              batch_size=32,\n",
        "              epochs=30,\n",
        "              verbose=1)\n",
        "\n",
        "  # Evaluate the model (Loss & Accuracy)\n",
        "  scores = model_NN.evaluate(XY_resampled.iloc[validIndex,0:3], XY_resampled.iloc[validIndex, 3], verbose=1)\n",
        "  print(f'Score for fold {fold_no}: {model_NN.metrics_names[0]} of {scores[0]}; {model_NN.metrics_names[1]} of {scores[1]*100}%')\n",
        "  acc_per_fold.append(scores[1] * 100)\n",
        "  loss_per_fold.append(scores[0])\n",
        "\n",
        "  # plot the Accuracy of training and validation in each epoch\n",
        "  plt.plot(history.history['accuracy'])\n",
        "  plt.plot(history_Valid.history['accuracy'])\n",
        "  plt.title('Model Accuracy')\n",
        "  plt.ylabel('Accuracy')\n",
        "  plt.xlabel('Epoch')\n",
        "  plt.legend(['train', 'valid'], loc='upper left')\n",
        "  plt.show()\n",
        "\n",
        "  fold_no = fold_no + 1"
      ],
      "execution_count": null,
      "outputs": [
        {
          "output_type": "stream",
          "name": "stdout",
          "text": [
            "--------------------------------------------------\n",
            "Training for fold 1 ...\n",
            "Epoch 1/30\n",
            "60/60 [==============================] - 1s 2ms/step - loss: 2.2242 - accuracy: 0.4958\n",
            "Epoch 2/30\n",
            "60/60 [==============================] - 0s 2ms/step - loss: 1.2217 - accuracy: 0.5026\n",
            "Epoch 3/30\n",
            "60/60 [==============================] - 0s 1ms/step - loss: 0.8939 - accuracy: 0.5063\n",
            "Epoch 4/30\n",
            "60/60 [==============================] - 0s 2ms/step - loss: 0.7662 - accuracy: 0.5430\n",
            "Epoch 5/30\n",
            "60/60 [==============================] - 0s 1ms/step - loss: 0.7411 - accuracy: 0.5304\n",
            "Epoch 6/30\n",
            "60/60 [==============================] - 0s 1ms/step - loss: 0.7066 - accuracy: 0.5535\n",
            "Epoch 7/30\n",
            "60/60 [==============================] - 0s 1ms/step - loss: 0.7138 - accuracy: 0.5388\n",
            "Epoch 8/30\n",
            "60/60 [==============================] - 0s 1ms/step - loss: 0.6893 - accuracy: 0.5702\n",
            "Epoch 9/30\n",
            "60/60 [==============================] - 0s 1ms/step - loss: 0.6635 - accuracy: 0.5970\n",
            "Epoch 10/30\n",
            "60/60 [==============================] - 0s 2ms/step - loss: 0.6600 - accuracy: 0.5881\n",
            "Epoch 11/30\n",
            "60/60 [==============================] - 0s 2ms/step - loss: 0.6568 - accuracy: 0.6043\n",
            "Epoch 12/30\n",
            "60/60 [==============================] - 0s 1ms/step - loss: 0.6518 - accuracy: 0.6006\n",
            "Epoch 13/30\n",
            "60/60 [==============================] - 0s 2ms/step - loss: 0.6439 - accuracy: 0.6158\n",
            "Epoch 14/30\n",
            "60/60 [==============================] - 0s 2ms/step - loss: 0.6271 - accuracy: 0.6289\n",
            "Epoch 15/30\n",
            "60/60 [==============================] - 0s 1ms/step - loss: 0.6188 - accuracy: 0.6373\n",
            "Epoch 16/30\n",
            "60/60 [==============================] - 0s 1ms/step - loss: 0.6030 - accuracy: 0.6630\n",
            "Epoch 17/30\n",
            "60/60 [==============================] - 0s 2ms/step - loss: 0.6009 - accuracy: 0.6630\n",
            "Epoch 18/30\n",
            "60/60 [==============================] - 0s 2ms/step - loss: 0.6145 - accuracy: 0.6415\n",
            "Epoch 19/30\n",
            "60/60 [==============================] - 0s 1ms/step - loss: 0.5862 - accuracy: 0.7007\n",
            "Epoch 20/30\n",
            "60/60 [==============================] - 0s 2ms/step - loss: 0.5860 - accuracy: 0.7028\n",
            "Epoch 21/30\n",
            "60/60 [==============================] - 0s 2ms/step - loss: 0.5634 - accuracy: 0.7306\n",
            "Epoch 22/30\n",
            "60/60 [==============================] - 0s 1ms/step - loss: 0.5511 - accuracy: 0.7453\n",
            "Epoch 23/30\n",
            "60/60 [==============================] - 0s 2ms/step - loss: 0.5210 - accuracy: 0.7794\n",
            "Epoch 24/30\n",
            "60/60 [==============================] - 0s 2ms/step - loss: 0.4977 - accuracy: 0.7956\n",
            "Epoch 25/30\n",
            "60/60 [==============================] - 0s 1ms/step - loss: 0.4975 - accuracy: 0.7872\n",
            "Epoch 26/30\n",
            "60/60 [==============================] - 0s 1ms/step - loss: 0.4754 - accuracy: 0.8071\n",
            "Epoch 27/30\n",
            "60/60 [==============================] - 0s 2ms/step - loss: 0.4736 - accuracy: 0.7935\n",
            "Epoch 28/30\n",
            "60/60 [==============================] - 0s 2ms/step - loss: 0.4599 - accuracy: 0.8171\n",
            "Epoch 29/30\n",
            "60/60 [==============================] - 0s 1ms/step - loss: 0.4458 - accuracy: 0.8234\n",
            "Epoch 30/30\n",
            "60/60 [==============================] - 0s 1ms/step - loss: 0.4351 - accuracy: 0.8333\n",
            "Epoch 1/30\n",
            "15/15 [==============================] - 0s 2ms/step - loss: 0.4246 - accuracy: 0.8285\n",
            "Epoch 2/30\n",
            "15/15 [==============================] - 0s 2ms/step - loss: 0.4222 - accuracy: 0.8347\n",
            "Epoch 3/30\n",
            "15/15 [==============================] - 0s 2ms/step - loss: 0.4293 - accuracy: 0.8222\n",
            "Epoch 4/30\n",
            "15/15 [==============================] - 0s 2ms/step - loss: 0.4121 - accuracy: 0.8473\n",
            "Epoch 5/30\n",
            "15/15 [==============================] - 0s 2ms/step - loss: 0.4380 - accuracy: 0.8180\n",
            "Epoch 6/30\n",
            "15/15 [==============================] - 0s 2ms/step - loss: 0.4008 - accuracy: 0.8473\n",
            "Epoch 7/30\n",
            "15/15 [==============================] - 0s 2ms/step - loss: 0.3905 - accuracy: 0.8619\n",
            "Epoch 8/30\n",
            "15/15 [==============================] - 0s 2ms/step - loss: 0.4074 - accuracy: 0.8368\n",
            "Epoch 9/30\n",
            "15/15 [==============================] - 0s 2ms/step - loss: 0.4084 - accuracy: 0.8410\n",
            "Epoch 10/30\n",
            "15/15 [==============================] - 0s 2ms/step - loss: 0.3996 - accuracy: 0.8556\n",
            "Epoch 11/30\n",
            "15/15 [==============================] - 0s 2ms/step - loss: 0.3874 - accuracy: 0.8556\n",
            "Epoch 12/30\n",
            "15/15 [==============================] - 0s 2ms/step - loss: 0.3839 - accuracy: 0.8515\n",
            "Epoch 13/30\n",
            "15/15 [==============================] - 0s 3ms/step - loss: 0.3624 - accuracy: 0.8808\n",
            "Epoch 14/30\n",
            "15/15 [==============================] - 0s 2ms/step - loss: 0.3721 - accuracy: 0.8787\n",
            "Epoch 15/30\n",
            "15/15 [==============================] - 0s 3ms/step - loss: 0.3806 - accuracy: 0.8577\n",
            "Epoch 16/30\n",
            "15/15 [==============================] - 0s 2ms/step - loss: 0.3815 - accuracy: 0.8347\n",
            "Epoch 17/30\n",
            "15/15 [==============================] - 0s 3ms/step - loss: 0.3608 - accuracy: 0.8849\n",
            "Epoch 18/30\n",
            "15/15 [==============================] - 0s 2ms/step - loss: 0.3769 - accuracy: 0.8661\n",
            "Epoch 19/30\n",
            "15/15 [==============================] - 0s 2ms/step - loss: 0.3731 - accuracy: 0.8473\n",
            "Epoch 20/30\n",
            "15/15 [==============================] - 0s 2ms/step - loss: 0.3652 - accuracy: 0.8766\n",
            "Epoch 21/30\n",
            "15/15 [==============================] - 0s 2ms/step - loss: 0.3610 - accuracy: 0.8808\n",
            "Epoch 22/30\n",
            "15/15 [==============================] - 0s 2ms/step - loss: 0.3482 - accuracy: 0.8808\n",
            "Epoch 23/30\n",
            "15/15 [==============================] - 0s 2ms/step - loss: 0.3684 - accuracy: 0.8577\n",
            "Epoch 24/30\n",
            "15/15 [==============================] - 0s 2ms/step - loss: 0.3618 - accuracy: 0.8640\n",
            "Epoch 25/30\n",
            "15/15 [==============================] - 0s 2ms/step - loss: 0.3812 - accuracy: 0.8473\n",
            "Epoch 26/30\n",
            "15/15 [==============================] - 0s 2ms/step - loss: 0.3301 - accuracy: 0.8849\n",
            "Epoch 27/30\n",
            "15/15 [==============================] - 0s 2ms/step - loss: 0.3468 - accuracy: 0.8724\n",
            "Epoch 28/30\n",
            "15/15 [==============================] - 0s 2ms/step - loss: 0.3704 - accuracy: 0.8619\n",
            "Epoch 29/30\n",
            "15/15 [==============================] - 0s 2ms/step - loss: 0.3501 - accuracy: 0.8724\n",
            "Epoch 30/30\n",
            "15/15 [==============================] - 0s 2ms/step - loss: 0.3627 - accuracy: 0.8640\n",
            "15/15 [==============================] - 0s 2ms/step - loss: 0.2483 - accuracy: 0.9456\n",
            "Score for fold 1: loss of 0.24832649528980255; accuracy of 94.56067085266113%\n"
          ]
        },
        {
          "output_type": "display_data",
          "data": {
            "image/png": "[encoded data removed]",
            "text/plain": [
              "<Figure size 432x288 with 1 Axes>"
            ]
          },
          "metadata": {
            "needs_background": "light"
          }
        },
        {
          "output_type": "stream",
          "name": "stdout",
          "text": [
            "--------------------------------------------------\n",
            "Training for fold 2 ...\n",
            "Epoch 1/30\n",
            "60/60 [==============================] - 1s 1ms/step - loss: 1.7783 - accuracy: 0.4835\n",
            "Epoch 2/30\n",
            "60/60 [==============================] - 0s 2ms/step - loss: 0.9437 - accuracy: 0.5092\n",
            "Epoch 3/30\n",
            "60/60 [==============================] - 0s 1ms/step - loss: 0.7727 - accuracy: 0.5364\n",
            "Epoch 4/30\n",
            "60/60 [==============================] - 0s 2ms/step - loss: 0.7217 - accuracy: 0.5856\n",
            "Epoch 5/30\n",
            "60/60 [==============================] - 0s 2ms/step - loss: 0.7180 - accuracy: 0.5830\n",
            "Epoch 6/30\n",
            "60/60 [==============================] - 0s 2ms/step - loss: 0.7042 - accuracy: 0.5930\n",
            "Epoch 7/30\n",
            "60/60 [==============================] - 0s 1ms/step - loss: 0.7027 - accuracy: 0.5825\n",
            "Epoch 8/30\n",
            "60/60 [==============================] - 0s 1ms/step - loss: 0.6831 - accuracy: 0.6029\n",
            "Epoch 9/30\n",
            "60/60 [==============================] - 0s 1ms/step - loss: 0.6609 - accuracy: 0.6108\n",
            "Epoch 10/30\n",
            "60/60 [==============================] - 0s 2ms/step - loss: 0.6736 - accuracy: 0.5961\n",
            "Epoch 11/30\n",
            "60/60 [==============================] - 0s 2ms/step - loss: 0.6617 - accuracy: 0.6103\n",
            "Epoch 12/30\n",
            "60/60 [==============================] - 0s 1ms/step - loss: 0.6421 - accuracy: 0.6223\n",
            "Epoch 13/30\n",
            "60/60 [==============================] - 0s 2ms/step - loss: 0.6291 - accuracy: 0.6548\n",
            "Epoch 14/30\n",
            "60/60 [==============================] - 0s 2ms/step - loss: 0.6354 - accuracy: 0.6475\n",
            "Epoch 15/30\n",
            "60/60 [==============================] - 0s 2ms/step - loss: 0.6224 - accuracy: 0.6548\n",
            "Epoch 16/30\n",
            "60/60 [==============================] - 0s 2ms/step - loss: 0.6143 - accuracy: 0.6621\n",
            "Epoch 17/30\n",
            "60/60 [==============================] - 0s 2ms/step - loss: 0.6053 - accuracy: 0.6862\n",
            "Epoch 18/30\n",
            "60/60 [==============================] - 0s 1ms/step - loss: 0.5816 - accuracy: 0.7014\n",
            "Epoch 19/30\n",
            "60/60 [==============================] - 0s 2ms/step - loss: 0.5743 - accuracy: 0.7051\n",
            "Epoch 20/30\n",
            "60/60 [==============================] - 0s 2ms/step - loss: 0.5476 - accuracy: 0.7381\n",
            "Epoch 21/30\n",
            "60/60 [==============================] - 0s 2ms/step - loss: 0.5424 - accuracy: 0.7522\n",
            "Epoch 22/30\n",
            "60/60 [==============================] - 0s 2ms/step - loss: 0.5279 - accuracy: 0.7522\n",
            "Epoch 23/30\n",
            "60/60 [==============================] - 0s 2ms/step - loss: 0.4974 - accuracy: 0.7868\n",
            "Epoch 24/30\n",
            "60/60 [==============================] - 0s 2ms/step - loss: 0.4968 - accuracy: 0.7837\n",
            "Epoch 25/30\n",
            "60/60 [==============================] - 0s 1ms/step - loss: 0.4652 - accuracy: 0.8078\n",
            "Epoch 26/30\n",
            "60/60 [==============================] - 0s 2ms/step - loss: 0.4510 - accuracy: 0.8093\n",
            "Epoch 27/30\n",
            "60/60 [==============================] - 0s 1ms/step - loss: 0.4393 - accuracy: 0.8146\n",
            "Epoch 28/30\n",
            "60/60 [==============================] - 0s 2ms/step - loss: 0.4118 - accuracy: 0.8402\n",
            "Epoch 29/30\n",
            "60/60 [==============================] - 0s 2ms/step - loss: 0.3826 - accuracy: 0.8549\n",
            "Epoch 30/30\n",
            "60/60 [==============================] - 0s 1ms/step - loss: 0.3705 - accuracy: 0.8596\n",
            "Epoch 1/30\n",
            "15/15 [==============================] - 0s 2ms/step - loss: 0.3667 - accuracy: 0.8512\n",
            "Epoch 2/30\n",
            "15/15 [==============================] - 0s 2ms/step - loss: 0.3488 - accuracy: 0.8742\n",
            "Epoch 3/30\n",
            "15/15 [==============================] - 0s 2ms/step - loss: 0.3716 - accuracy: 0.8407\n",
            "Epoch 4/30\n",
            "15/15 [==============================] - 0s 2ms/step - loss: 0.3561 - accuracy: 0.8784\n",
            "Epoch 5/30\n",
            "15/15 [==============================] - 0s 2ms/step - loss: 0.3408 - accuracy: 0.8700\n",
            "Epoch 6/30\n",
            "15/15 [==============================] - 0s 3ms/step - loss: 0.3538 - accuracy: 0.8679\n",
            "Epoch 7/30\n",
            "15/15 [==============================] - 0s 2ms/step - loss: 0.3409 - accuracy: 0.8805\n",
            "Epoch 8/30\n",
            "15/15 [==============================] - 0s 2ms/step - loss: 0.3824 - accuracy: 0.8323\n",
            "Epoch 9/30\n",
            "15/15 [==============================] - 0s 2ms/step - loss: 0.3461 - accuracy: 0.8616\n",
            "Epoch 10/30\n",
            "15/15 [==============================] - 0s 2ms/step - loss: 0.3321 - accuracy: 0.8805\n",
            "Epoch 11/30\n",
            "15/15 [==============================] - 0s 2ms/step - loss: 0.3345 - accuracy: 0.8658\n",
            "Epoch 12/30\n",
            "15/15 [==============================] - 0s 2ms/step - loss: 0.3507 - accuracy: 0.8595\n",
            "Epoch 13/30\n",
            "15/15 [==============================] - 0s 2ms/step - loss: 0.3248 - accuracy: 0.8784\n",
            "Epoch 14/30\n",
            "15/15 [==============================] - 0s 2ms/step - loss: 0.3478 - accuracy: 0.8574\n",
            "Epoch 15/30\n",
            "15/15 [==============================] - 0s 2ms/step - loss: 0.3326 - accuracy: 0.8700\n",
            "Epoch 16/30\n",
            "15/15 [==============================] - 0s 2ms/step - loss: 0.3163 - accuracy: 0.8784\n",
            "Epoch 17/30\n",
            "15/15 [==============================] - 0s 2ms/step - loss: 0.2905 - accuracy: 0.8994\n",
            "Epoch 18/30\n",
            "15/15 [==============================] - 0s 2ms/step - loss: 0.3024 - accuracy: 0.8868\n",
            "Epoch 19/30\n",
            "15/15 [==============================] - 0s 2ms/step - loss: 0.3366 - accuracy: 0.8658\n",
            "Epoch 20/30\n",
            "15/15 [==============================] - 0s 2ms/step - loss: 0.3345 - accuracy: 0.8700\n",
            "Epoch 21/30\n",
            "15/15 [==============================] - 0s 2ms/step - loss: 0.3265 - accuracy: 0.8826\n",
            "Epoch 22/30\n",
            "15/15 [==============================] - 0s 2ms/step - loss: 0.3043 - accuracy: 0.8847\n",
            "Epoch 23/30\n",
            "15/15 [==============================] - 0s 2ms/step - loss: 0.3295 - accuracy: 0.8763\n",
            "Epoch 24/30\n",
            "15/15 [==============================] - 0s 2ms/step - loss: 0.3150 - accuracy: 0.8679\n",
            "Epoch 25/30\n",
            "15/15 [==============================] - 0s 2ms/step - loss: 0.2916 - accuracy: 0.8973\n",
            "Epoch 26/30\n",
            "15/15 [==============================] - 0s 2ms/step - loss: 0.3240 - accuracy: 0.8658\n",
            "Epoch 27/30\n",
            "15/15 [==============================] - 0s 2ms/step - loss: 0.3024 - accuracy: 0.8931\n",
            "Epoch 28/30\n",
            "15/15 [==============================] - 0s 2ms/step - loss: 0.2973 - accuracy: 0.8847\n",
            "Epoch 29/30\n",
            "15/15 [==============================] - 0s 2ms/step - loss: 0.3081 - accuracy: 0.8805\n",
            "Epoch 30/30\n",
            "15/15 [==============================] - 0s 2ms/step - loss: 0.3321 - accuracy: 0.8491\n",
            "15/15 [==============================] - 0s 1ms/step - loss: 0.2215 - accuracy: 0.9329\n",
            "Score for fold 2: loss of 0.22153596580028534; accuracy of 93.29140186309814%\n"
          ]
        },
        {
          "output_type": "display_data",
          "data": {
            "image/png": "[encoded data removed]",
            "text/plain": [
              "<Figure size 432x288 with 1 Axes>"
            ]
          },
          "metadata": {
            "needs_background": "light"
          }
        },
        {
          "output_type": "stream",
          "name": "stdout",
          "text": [
            "--------------------------------------------------\n",
            "Training for fold 3 ...\n",
            "Epoch 1/30\n",
            "60/60 [==============================] - 1s 1ms/step - loss: 0.7967 - accuracy: 0.5118\n",
            "Epoch 2/30\n",
            "60/60 [==============================] - 0s 1ms/step - loss: 0.8016 - accuracy: 0.5045\n",
            "Epoch 3/30\n",
            "60/60 [==============================] - 0s 2ms/step - loss: 0.7336 - accuracy: 0.5076\n",
            "Epoch 4/30\n",
            "60/60 [==============================] - 0s 2ms/step - loss: 0.7251 - accuracy: 0.5202\n",
            "Epoch 5/30\n",
            "60/60 [==============================] - 0s 1ms/step - loss: 0.7209 - accuracy: 0.5034\n",
            "Epoch 6/30\n",
            "60/60 [==============================] - 0s 2ms/step - loss: 0.7115 - accuracy: 0.5055\n",
            "Epoch 7/30\n",
            "60/60 [==============================] - 0s 2ms/step - loss: 0.7001 - accuracy: 0.5039\n",
            "Epoch 8/30\n",
            "60/60 [==============================] - 0s 2ms/step - loss: 0.7043 - accuracy: 0.5097\n",
            "Epoch 9/30\n",
            "60/60 [==============================] - 0s 2ms/step - loss: 0.7058 - accuracy: 0.4950\n",
            "Epoch 10/30\n",
            "60/60 [==============================] - 0s 2ms/step - loss: 0.6989 - accuracy: 0.5118\n",
            "Epoch 11/30\n",
            "60/60 [==============================] - 0s 2ms/step - loss: 0.6956 - accuracy: 0.5045\n",
            "Epoch 12/30\n",
            "60/60 [==============================] - 0s 2ms/step - loss: 0.6956 - accuracy: 0.5144\n",
            "Epoch 13/30\n",
            "60/60 [==============================] - 0s 1ms/step - loss: 0.7011 - accuracy: 0.5081\n",
            "Epoch 14/30\n",
            "60/60 [==============================] - 0s 2ms/step - loss: 0.6976 - accuracy: 0.5055\n",
            "Epoch 15/30\n",
            "60/60 [==============================] - 0s 1ms/step - loss: 0.6948 - accuracy: 0.5045\n",
            "Epoch 16/30\n",
            "60/60 [==============================] - 0s 2ms/step - loss: 0.6971 - accuracy: 0.5060\n",
            "Epoch 17/30\n",
            "60/60 [==============================] - 0s 1ms/step - loss: 0.6948 - accuracy: 0.5055\n",
            "Epoch 18/30\n",
            "60/60 [==============================] - 0s 2ms/step - loss: 0.6955 - accuracy: 0.5045\n",
            "Epoch 19/30\n",
            "60/60 [==============================] - 0s 1ms/step - loss: 0.6943 - accuracy: 0.5039\n",
            "Epoch 20/30\n",
            "60/60 [==============================] - 0s 1ms/step - loss: 0.6943 - accuracy: 0.5102\n",
            "Epoch 21/30\n",
            "60/60 [==============================] - 0s 1ms/step - loss: 0.6931 - accuracy: 0.5018\n",
            "Epoch 22/30\n",
            "60/60 [==============================] - 0s 2ms/step - loss: 0.6894 - accuracy: 0.5244\n",
            "Epoch 23/30\n",
            "60/60 [==============================] - 0s 2ms/step - loss: 0.6926 - accuracy: 0.5532\n",
            "Epoch 24/30\n",
            "60/60 [==============================] - 0s 2ms/step - loss: 0.6878 - accuracy: 0.5757\n",
            "Epoch 25/30\n",
            "60/60 [==============================] - 0s 2ms/step - loss: 0.6831 - accuracy: 0.5841\n",
            "Epoch 26/30\n",
            "60/60 [==============================] - 0s 2ms/step - loss: 0.6810 - accuracy: 0.6082\n",
            "Epoch 27/30\n",
            "60/60 [==============================] - 0s 2ms/step - loss: 0.6843 - accuracy: 0.5794\n",
            "Epoch 28/30\n",
            "60/60 [==============================] - 0s 1ms/step - loss: 0.6775 - accuracy: 0.6108\n",
            "Epoch 29/30\n",
            "60/60 [==============================] - 0s 2ms/step - loss: 0.6770 - accuracy: 0.6082\n",
            "Epoch 30/30\n",
            "60/60 [==============================] - 0s 1ms/step - loss: 0.6743 - accuracy: 0.6092\n",
            "Epoch 1/30\n",
            "15/15 [==============================] - 0s 2ms/step - loss: 0.6811 - accuracy: 0.6143\n",
            "Epoch 2/30\n",
            "15/15 [==============================] - 0s 2ms/step - loss: 0.6756 - accuracy: 0.6394\n",
            "Epoch 3/30\n",
            "15/15 [==============================] - 0s 2ms/step - loss: 0.6712 - accuracy: 0.6415\n",
            "Epoch 4/30\n",
            "15/15 [==============================] - 0s 2ms/step - loss: 0.6900 - accuracy: 0.5786\n",
            "Epoch 5/30\n",
            "15/15 [==============================] - 0s 2ms/step - loss: 0.6715 - accuracy: 0.6415\n",
            "Epoch 6/30\n",
            "15/15 [==============================] - 0s 2ms/step - loss: 0.6725 - accuracy: 0.6457\n",
            "Epoch 7/30\n",
            "15/15 [==============================] - 0s 2ms/step - loss: 0.6751 - accuracy: 0.6289\n",
            "Epoch 8/30\n",
            "15/15 [==============================] - 0s 2ms/step - loss: 0.6703 - accuracy: 0.6436\n",
            "Epoch 9/30\n",
            "15/15 [==============================] - 0s 2ms/step - loss: 0.6770 - accuracy: 0.6289\n",
            "Epoch 10/30\n",
            "15/15 [==============================] - 0s 2ms/step - loss: 0.6848 - accuracy: 0.5954\n",
            "Epoch 11/30\n",
            "15/15 [==============================] - 0s 3ms/step - loss: 0.6699 - accuracy: 0.6394\n",
            "Epoch 12/30\n",
            "15/15 [==============================] - 0s 2ms/step - loss: 0.6750 - accuracy: 0.6268\n",
            "Epoch 13/30\n",
            "15/15 [==============================] - 0s 2ms/step - loss: 0.6642 - accuracy: 0.6583\n",
            "Epoch 14/30\n",
            "15/15 [==============================] - 0s 2ms/step - loss: 0.6835 - accuracy: 0.6059\n",
            "Epoch 15/30\n",
            "15/15 [==============================] - 0s 2ms/step - loss: 0.6637 - accuracy: 0.6562\n",
            "Epoch 16/30\n",
            "15/15 [==============================] - 0s 2ms/step - loss: 0.6780 - accuracy: 0.6226\n",
            "Epoch 17/30\n",
            "15/15 [==============================] - 0s 2ms/step - loss: 0.6714 - accuracy: 0.6226\n",
            "Epoch 18/30\n",
            "15/15 [==============================] - 0s 2ms/step - loss: 0.6666 - accuracy: 0.6457\n",
            "Epoch 19/30\n",
            "15/15 [==============================] - 0s 2ms/step - loss: 0.6753 - accuracy: 0.6143\n",
            "Epoch 20/30\n",
            "15/15 [==============================] - 0s 2ms/step - loss: 0.6684 - accuracy: 0.6415\n",
            "Epoch 21/30\n",
            "15/15 [==============================] - 0s 3ms/step - loss: 0.6686 - accuracy: 0.6415\n",
            "Epoch 22/30\n",
            "15/15 [==============================] - 0s 2ms/step - loss: 0.6695 - accuracy: 0.6289\n",
            "Epoch 23/30\n",
            "15/15 [==============================] - 0s 2ms/step - loss: 0.6637 - accuracy: 0.6478\n",
            "Epoch 24/30\n",
            "15/15 [==============================] - 0s 2ms/step - loss: 0.6715 - accuracy: 0.6184\n",
            "Epoch 25/30\n",
            "15/15 [==============================] - 0s 2ms/step - loss: 0.6612 - accuracy: 0.6562\n",
            "Epoch 26/30\n",
            "15/15 [==============================] - 0s 2ms/step - loss: 0.6686 - accuracy: 0.6289\n",
            "Epoch 27/30\n",
            "15/15 [==============================] - 0s 2ms/step - loss: 0.6730 - accuracy: 0.6205\n",
            "Epoch 28/30\n",
            "15/15 [==============================] - 0s 2ms/step - loss: 0.6658 - accuracy: 0.6352\n",
            "Epoch 29/30\n",
            "15/15 [==============================] - 0s 2ms/step - loss: 0.6609 - accuracy: 0.6499\n",
            "Epoch 30/30\n",
            "15/15 [==============================] - 0s 2ms/step - loss: 0.6693 - accuracy: 0.6226\n",
            "15/15 [==============================] - 0s 1ms/step - loss: 0.6179 - accuracy: 0.8449\n",
            "Score for fold 3: loss of 0.6179459691047668; accuracy of 84.48637127876282%\n"
          ]
        },
        {
          "output_type": "display_data",
          "data": {
            "image/png": "[encoded data removed]",
            "text/plain": [
              "<Figure size 432x288 with 1 Axes>"
            ]
          },
          "metadata": {
            "needs_background": "light"
          }
        },
        {
          "output_type": "stream",
          "name": "stdout",
          "text": [
            "--------------------------------------------------\n",
            "Training for fold 4 ...\n",
            "Epoch 1/30\n",
            "60/60 [==============================] - 1s 1ms/step - loss: 0.8866 - accuracy: 0.4825\n",
            "Epoch 2/30\n",
            "60/60 [==============================] - 0s 1ms/step - loss: 0.7751 - accuracy: 0.4924\n",
            "Epoch 3/30\n",
            "60/60 [==============================] - 0s 2ms/step - loss: 0.7231 - accuracy: 0.4935\n",
            "Epoch 4/30\n",
            "60/60 [==============================] - 0s 2ms/step - loss: 0.7218 - accuracy: 0.5050\n",
            "Epoch 5/30\n",
            "60/60 [==============================] - 0s 2ms/step - loss: 0.7116 - accuracy: 0.4882\n",
            "Epoch 6/30\n",
            "60/60 [==============================] - 0s 1ms/step - loss: 0.7183 - accuracy: 0.5092\n",
            "Epoch 7/30\n",
            "60/60 [==============================] - 0s 2ms/step - loss: 0.6923 - accuracy: 0.5228\n",
            "Epoch 8/30\n",
            "60/60 [==============================] - 0s 2ms/step - loss: 0.6975 - accuracy: 0.5165\n",
            "Epoch 9/30\n",
            "60/60 [==============================] - 0s 2ms/step - loss: 0.6978 - accuracy: 0.5050\n",
            "Epoch 10/30\n",
            "60/60 [==============================] - 0s 2ms/step - loss: 0.6985 - accuracy: 0.5280\n",
            "Epoch 11/30\n",
            "60/60 [==============================] - 0s 1ms/step - loss: 0.6889 - accuracy: 0.5165\n",
            "Epoch 12/30\n",
            "60/60 [==============================] - 0s 1ms/step - loss: 0.6845 - accuracy: 0.5139\n",
            "Epoch 13/30\n",
            "60/60 [==============================] - 0s 1ms/step - loss: 0.6879 - accuracy: 0.5181\n",
            "Epoch 14/30\n",
            "60/60 [==============================] - 0s 2ms/step - loss: 0.6812 - accuracy: 0.5369\n",
            "Epoch 15/30\n",
            "60/60 [==============================] - 0s 2ms/step - loss: 0.6811 - accuracy: 0.5322\n",
            "Epoch 16/30\n",
            "60/60 [==============================] - 0s 2ms/step - loss: 0.6699 - accuracy: 0.5128\n",
            "Epoch 17/30\n",
            "60/60 [==============================] - 0s 1ms/step - loss: 0.6740 - accuracy: 0.5244\n",
            "Epoch 18/30\n",
            "60/60 [==============================] - 0s 2ms/step - loss: 0.6728 - accuracy: 0.5301\n",
            "Epoch 19/30\n",
            "60/60 [==============================] - 0s 2ms/step - loss: 0.6710 - accuracy: 0.5437\n",
            "Epoch 20/30\n",
            "60/60 [==============================] - 0s 2ms/step - loss: 0.6629 - accuracy: 0.5553\n",
            "Epoch 21/30\n",
            "60/60 [==============================] - 0s 1ms/step - loss: 0.6502 - accuracy: 0.5773\n",
            "Epoch 22/30\n",
            "60/60 [==============================] - 0s 1ms/step - loss: 0.6446 - accuracy: 0.5925\n",
            "Epoch 23/30\n",
            "60/60 [==============================] - 0s 2ms/step - loss: 0.6407 - accuracy: 0.6108\n",
            "Epoch 24/30\n",
            "60/60 [==============================] - 0s 2ms/step - loss: 0.6358 - accuracy: 0.6317\n",
            "Epoch 25/30\n",
            "60/60 [==============================] - 0s 2ms/step - loss: 0.6215 - accuracy: 0.6553\n",
            "Epoch 26/30\n",
            "60/60 [==============================] - 0s 2ms/step - loss: 0.6196 - accuracy: 0.6627\n",
            "Epoch 27/30\n",
            "60/60 [==============================] - 0s 1ms/step - loss: 0.6089 - accuracy: 0.6668\n",
            "Epoch 28/30\n",
            "60/60 [==============================] - 0s 2ms/step - loss: 0.5784 - accuracy: 0.7087\n",
            "Epoch 29/30\n",
            "60/60 [==============================] - 0s 2ms/step - loss: 0.5845 - accuracy: 0.7035\n",
            "Epoch 30/30\n",
            "60/60 [==============================] - 0s 1ms/step - loss: 0.5724 - accuracy: 0.7103\n",
            "Epoch 1/30\n",
            "15/15 [==============================] - 0s 2ms/step - loss: 0.5662 - accuracy: 0.7442\n",
            "Epoch 2/30\n",
            "15/15 [==============================] - 0s 2ms/step - loss: 0.5659 - accuracy: 0.7191\n",
            "Epoch 3/30\n",
            "15/15 [==============================] - 0s 2ms/step - loss: 0.5673 - accuracy: 0.7128\n",
            "Epoch 4/30\n",
            "15/15 [==============================] - 0s 2ms/step - loss: 0.5759 - accuracy: 0.7191\n",
            "Epoch 5/30\n",
            "15/15 [==============================] - 0s 2ms/step - loss: 0.5367 - accuracy: 0.7505\n",
            "Epoch 6/30\n",
            "15/15 [==============================] - 0s 2ms/step - loss: 0.5330 - accuracy: 0.7421\n",
            "Epoch 7/30\n",
            "15/15 [==============================] - 0s 2ms/step - loss: 0.5547 - accuracy: 0.7044\n",
            "Epoch 8/30\n",
            "15/15 [==============================] - 0s 2ms/step - loss: 0.5425 - accuracy: 0.7191\n",
            "Epoch 9/30\n",
            "15/15 [==============================] - 0s 2ms/step - loss: 0.5455 - accuracy: 0.7275\n",
            "Epoch 10/30\n",
            "15/15 [==============================] - 0s 2ms/step - loss: 0.5238 - accuracy: 0.7652\n",
            "Epoch 11/30\n",
            "15/15 [==============================] - 0s 3ms/step - loss: 0.5373 - accuracy: 0.7170\n",
            "Epoch 12/30\n",
            "15/15 [==============================] - 0s 2ms/step - loss: 0.5391 - accuracy: 0.7296\n",
            "Epoch 13/30\n",
            "15/15 [==============================] - 0s 2ms/step - loss: 0.5328 - accuracy: 0.7400\n",
            "Epoch 14/30\n",
            "15/15 [==============================] - 0s 2ms/step - loss: 0.5275 - accuracy: 0.7379\n",
            "Epoch 15/30\n",
            "15/15 [==============================] - 0s 2ms/step - loss: 0.5321 - accuracy: 0.7296\n",
            "Epoch 16/30\n",
            "15/15 [==============================] - 0s 2ms/step - loss: 0.5548 - accuracy: 0.7023\n",
            "Epoch 17/30\n",
            "15/15 [==============================] - 0s 2ms/step - loss: 0.5241 - accuracy: 0.7400\n",
            "Epoch 18/30\n",
            "15/15 [==============================] - 0s 2ms/step - loss: 0.5431 - accuracy: 0.7358\n",
            "Epoch 19/30\n",
            "15/15 [==============================] - 0s 2ms/step - loss: 0.5211 - accuracy: 0.7568\n",
            "Epoch 20/30\n",
            "15/15 [==============================] - 0s 2ms/step - loss: 0.5639 - accuracy: 0.7086\n",
            "Epoch 21/30\n",
            "15/15 [==============================] - 0s 3ms/step - loss: 0.5257 - accuracy: 0.7526\n",
            "Epoch 22/30\n",
            "15/15 [==============================] - 0s 2ms/step - loss: 0.5210 - accuracy: 0.7442\n",
            "Epoch 23/30\n",
            "15/15 [==============================] - 0s 3ms/step - loss: 0.5168 - accuracy: 0.7610\n",
            "Epoch 24/30\n",
            "15/15 [==============================] - 0s 2ms/step - loss: 0.5001 - accuracy: 0.7673\n",
            "Epoch 25/30\n",
            "15/15 [==============================] - 0s 2ms/step - loss: 0.5128 - accuracy: 0.7526\n",
            "Epoch 26/30\n",
            "15/15 [==============================] - 0s 2ms/step - loss: 0.5232 - accuracy: 0.7442\n",
            "Epoch 27/30\n",
            "15/15 [==============================] - 0s 2ms/step - loss: 0.5518 - accuracy: 0.7170\n",
            "Epoch 28/30\n",
            "15/15 [==============================] - 0s 2ms/step - loss: 0.5317 - accuracy: 0.7170\n",
            "Epoch 29/30\n",
            "15/15 [==============================] - 0s 2ms/step - loss: 0.5175 - accuracy: 0.7526\n",
            "Epoch 30/30\n",
            "15/15 [==============================] - 0s 2ms/step - loss: 0.5034 - accuracy: 0.7484\n",
            "15/15 [==============================] - 0s 1ms/step - loss: 0.4669 - accuracy: 0.8658\n",
            "Score for fold 4: loss of 0.46685686707496643; accuracy of 86.58280968666077%\n"
          ]
        },
        {
          "output_type": "display_data",
          "data": {
            "image/png": "[encoded data removed]",
            "text/plain": [
              "<Figure size 432x288 with 1 Axes>"
            ]
          },
          "metadata": {
            "needs_background": "light"
          }
        },
        {
          "output_type": "stream",
          "name": "stdout",
          "text": [
            "--------------------------------------------------\n",
            "Training for fold 5 ...\n",
            "Epoch 1/30\n",
            "60/60 [==============================] - 1s 2ms/step - loss: 2.0222 - accuracy: 0.5003\n",
            "Epoch 2/30\n",
            "60/60 [==============================] - 0s 2ms/step - loss: 1.2444 - accuracy: 0.4914\n",
            "Epoch 3/30\n",
            "60/60 [==============================] - 0s 2ms/step - loss: 0.8986 - accuracy: 0.5223\n",
            "Epoch 4/30\n",
            "60/60 [==============================] - 0s 1ms/step - loss: 0.8208 - accuracy: 0.4976\n",
            "Epoch 5/30\n",
            "60/60 [==============================] - 0s 2ms/step - loss: 0.7473 - accuracy: 0.5123\n",
            "Epoch 6/30\n",
            "60/60 [==============================] - 0s 2ms/step - loss: 0.7316 - accuracy: 0.5238\n",
            "Epoch 7/30\n",
            "60/60 [==============================] - 0s 2ms/step - loss: 0.7373 - accuracy: 0.5196\n",
            "Epoch 8/30\n",
            "60/60 [==============================] - 0s 2ms/step - loss: 0.7082 - accuracy: 0.5390\n",
            "Epoch 9/30\n",
            "60/60 [==============================] - 0s 2ms/step - loss: 0.6871 - accuracy: 0.5867\n",
            "Epoch 10/30\n",
            "60/60 [==============================] - 0s 2ms/step - loss: 0.6869 - accuracy: 0.5579\n",
            "Epoch 11/30\n",
            "60/60 [==============================] - 0s 1ms/step - loss: 0.6878 - accuracy: 0.5616\n",
            "Epoch 12/30\n",
            "60/60 [==============================] - 0s 2ms/step - loss: 0.6828 - accuracy: 0.5568\n",
            "Epoch 13/30\n",
            "60/60 [==============================] - 0s 2ms/step - loss: 0.6706 - accuracy: 0.5631\n",
            "Epoch 14/30\n",
            "60/60 [==============================] - 0s 2ms/step - loss: 0.6785 - accuracy: 0.5584\n",
            "Epoch 15/30\n",
            "60/60 [==============================] - 0s 2ms/step - loss: 0.6702 - accuracy: 0.5506\n",
            "Epoch 16/30\n",
            "60/60 [==============================] - 0s 2ms/step - loss: 0.6622 - accuracy: 0.5621\n",
            "Epoch 17/30\n",
            "60/60 [==============================] - 0s 2ms/step - loss: 0.6543 - accuracy: 0.5799\n",
            "Epoch 18/30\n",
            "60/60 [==============================] - 0s 1ms/step - loss: 0.6583 - accuracy: 0.5616\n",
            "Epoch 19/30\n",
            "60/60 [==============================] - 0s 1ms/step - loss: 0.6579 - accuracy: 0.5726\n",
            "Epoch 20/30\n",
            "60/60 [==============================] - 0s 2ms/step - loss: 0.6533 - accuracy: 0.5925\n",
            "Epoch 21/30\n",
            "60/60 [==============================] - 0s 2ms/step - loss: 0.6412 - accuracy: 0.5998\n",
            "Epoch 22/30\n",
            "60/60 [==============================] - 0s 2ms/step - loss: 0.6387 - accuracy: 0.5914\n",
            "Epoch 23/30\n",
            "60/60 [==============================] - 0s 2ms/step - loss: 0.6371 - accuracy: 0.6019\n",
            "Epoch 24/30\n",
            "60/60 [==============================] - 0s 1ms/step - loss: 0.6275 - accuracy: 0.6087\n",
            "Epoch 25/30\n",
            "60/60 [==============================] - 0s 2ms/step - loss: 0.6246 - accuracy: 0.6291\n",
            "Epoch 26/30\n",
            "60/60 [==============================] - 0s 2ms/step - loss: 0.6219 - accuracy: 0.6333\n",
            "Epoch 27/30\n",
            "60/60 [==============================] - 0s 2ms/step - loss: 0.6196 - accuracy: 0.6480\n",
            "Epoch 28/30\n",
            "60/60 [==============================] - 0s 1ms/step - loss: 0.6158 - accuracy: 0.6386\n",
            "Epoch 29/30\n",
            "60/60 [==============================] - 0s 1ms/step - loss: 0.5982 - accuracy: 0.6689\n",
            "Epoch 30/30\n",
            "60/60 [==============================] - 0s 2ms/step - loss: 0.5855 - accuracy: 0.6894\n",
            "Epoch 1/30\n",
            "15/15 [==============================] - 0s 2ms/step - loss: 0.5891 - accuracy: 0.6771\n",
            "Epoch 2/30\n",
            "15/15 [==============================] - 0s 2ms/step - loss: 0.5566 - accuracy: 0.7128\n",
            "Epoch 3/30\n",
            "15/15 [==============================] - 0s 2ms/step - loss: 0.5758 - accuracy: 0.6730\n",
            "Epoch 4/30\n",
            "15/15 [==============================] - 0s 2ms/step - loss: 0.5889 - accuracy: 0.6688\n",
            "Epoch 5/30\n",
            "15/15 [==============================] - 0s 2ms/step - loss: 0.5531 - accuracy: 0.7254\n",
            "Epoch 6/30\n",
            "15/15 [==============================] - 0s 2ms/step - loss: 0.5603 - accuracy: 0.7023\n",
            "Epoch 7/30\n",
            "15/15 [==============================] - 0s 2ms/step - loss: 0.5674 - accuracy: 0.6771\n",
            "Epoch 8/30\n",
            "15/15 [==============================] - 0s 2ms/step - loss: 0.5516 - accuracy: 0.7107\n",
            "Epoch 9/30\n",
            "15/15 [==============================] - 0s 2ms/step - loss: 0.5595 - accuracy: 0.7044\n",
            "Epoch 10/30\n",
            "15/15 [==============================] - 0s 2ms/step - loss: 0.5600 - accuracy: 0.7128\n",
            "Epoch 11/30\n",
            "15/15 [==============================] - 0s 2ms/step - loss: 0.5654 - accuracy: 0.7170\n",
            "Epoch 12/30\n",
            "15/15 [==============================] - 0s 2ms/step - loss: 0.5725 - accuracy: 0.6960\n",
            "Epoch 13/30\n",
            "15/15 [==============================] - 0s 2ms/step - loss: 0.5579 - accuracy: 0.6939\n",
            "Epoch 14/30\n",
            "15/15 [==============================] - 0s 2ms/step - loss: 0.5375 - accuracy: 0.7379\n",
            "Epoch 15/30\n",
            "15/15 [==============================] - 0s 2ms/step - loss: 0.5577 - accuracy: 0.7065\n",
            "Epoch 16/30\n",
            "15/15 [==============================] - 0s 2ms/step - loss: 0.5609 - accuracy: 0.7107\n",
            "Epoch 17/30\n",
            "15/15 [==============================] - 0s 2ms/step - loss: 0.5502 - accuracy: 0.7191\n",
            "Epoch 18/30\n",
            "15/15 [==============================] - 0s 2ms/step - loss: 0.5493 - accuracy: 0.7338\n",
            "Epoch 19/30\n",
            "15/15 [==============================] - 0s 2ms/step - loss: 0.5523 - accuracy: 0.7275\n",
            "Epoch 20/30\n",
            "15/15 [==============================] - 0s 2ms/step - loss: 0.5482 - accuracy: 0.7170\n",
            "Epoch 21/30\n",
            "15/15 [==============================] - 0s 3ms/step - loss: 0.5304 - accuracy: 0.7358\n",
            "Epoch 22/30\n",
            "15/15 [==============================] - 0s 2ms/step - loss: 0.5434 - accuracy: 0.7191\n",
            "Epoch 23/30\n",
            "15/15 [==============================] - 0s 2ms/step - loss: 0.5297 - accuracy: 0.7484\n",
            "Epoch 24/30\n",
            "15/15 [==============================] - 0s 2ms/step - loss: 0.5388 - accuracy: 0.7275\n",
            "Epoch 25/30\n",
            "15/15 [==============================] - 0s 2ms/step - loss: 0.5124 - accuracy: 0.7631\n",
            "Epoch 26/30\n",
            "15/15 [==============================] - 0s 2ms/step - loss: 0.5205 - accuracy: 0.7526\n",
            "Epoch 27/30\n",
            "15/15 [==============================] - 0s 2ms/step - loss: 0.5039 - accuracy: 0.7673\n",
            "Epoch 28/30\n",
            "15/15 [==============================] - 0s 2ms/step - loss: 0.5207 - accuracy: 0.7296\n",
            "Epoch 29/30\n",
            "15/15 [==============================] - 0s 2ms/step - loss: 0.5427 - accuracy: 0.7358\n",
            "Epoch 30/30\n",
            "15/15 [==============================] - 0s 2ms/step - loss: 0.5055 - accuracy: 0.7778\n",
            "15/15 [==============================] - 0s 2ms/step - loss: 0.4697 - accuracy: 0.8616\n",
            "Score for fold 5: loss of 0.46972301602363586; accuracy of 86.16352081298828%\n"
          ]
        },
        {
          "output_type": "display_data",
          "data": {
            "image/png": "[encoded data removed]",
            "text/plain": [
              "<Figure size 432x288 with 1 Axes>"
            ]
          },
          "metadata": {
            "needs_background": "light"
          }
        }
      ]
    },
    {
      "cell_type": "code",
      "metadata": {
        "id": "vMal3AMZT_s5",
        "colab": {
          "base_uri": "https://localhost:8080/"
        },
        "outputId": "686d9511-67e8-4b6b-d0ac-9dde2f0112fe"
      },
      "source": [
        "# Accuracy per fold\n",
        "print(acc_per_fold)"
      ],
      "execution_count": null,
      "outputs": [
        {
          "output_type": "stream",
          "name": "stdout",
          "text": [
            "[94.56067085266113, 93.29140186309814, 84.48637127876282, 86.58280968666077, 86.16352081298828]\n"
          ]
        }
      ]
    },
    {
      "cell_type": "code",
      "metadata": {
        "colab": {
          "base_uri": "https://localhost:8080/"
        },
        "id": "lPaV1f01Nrj_",
        "outputId": "c8078254-5642-460c-a52c-8108a8d8c628"
      },
      "source": [
        "# Loss per fold\n",
        "print(loss_per_fold)"
      ],
      "execution_count": null,
      "outputs": [
        {
          "output_type": "stream",
          "name": "stdout",
          "text": [
            "[0.24832649528980255, 0.22153596580028534, 0.6179459691047668, 0.46685686707496643, 0.46972301602363586]\n"
          ]
        }
      ]
    },
    {
      "cell_type": "code",
      "metadata": {
        "colab": {
          "base_uri": "https://localhost:8080/"
        },
        "id": "HbNh_tCIllDy",
        "outputId": "22b39339-6728-49cb-8837-b89ab011ffd0"
      },
      "source": [
        "## Test Data\n",
        "pred_NN = model_NN.predict(X_test)\n",
        "pred_NN = np.where(pred_NN > 0.5,1,0)\n",
        "cm_NN = confusion_matrix(Y_test, pred_NN)\n",
        "print(cm_NN)"
      ],
      "execution_count": null,
      "outputs": [
        {
          "output_type": "stream",
          "name": "stdout",
          "text": [
            "[[376 141]\n",
            " [  0  81]]\n"
          ]
        }
      ]
    },
    {
      "cell_type": "code",
      "metadata": {
        "colab": {
          "base_uri": "https://localhost:8080/"
        },
        "id": "JG6qyqs9URi4",
        "outputId": "6f6a8055-2887-4c7d-97b2-ed9e1e32d46a"
      },
      "source": [
        "# Prediction report for Test Dataset(precision, recall rate, F1, accuracy)\n",
        "print(classification_report(Y_test, pred_NN)) "
      ],
      "execution_count": null,
      "outputs": [
        {
          "output_type": "stream",
          "name": "stdout",
          "text": [
            "              precision    recall  f1-score   support\n",
            "\n",
            "           0       1.00      0.73      0.84       517\n",
            "           1       0.36      1.00      0.53        81\n",
            "\n",
            "    accuracy                           0.76       598\n",
            "   macro avg       0.68      0.86      0.69       598\n",
            "weighted avg       0.91      0.76      0.80       598\n",
            "\n"
          ]
        }
      ]
    },
    {
      "cell_type": "markdown",
      "metadata": {
        "id": "i_Dl_qK7Vqz9"
      },
      "source": [
        "# **Logistic Regression**"
      ]
    },
    {
      "cell_type": "code",
      "metadata": {
        "id": "5UeceOQTVu4O"
      },
      "source": [
        "from sklearn import linear_model\n",
        "from sklearn.metrics import confusion_matrix"
      ],
      "execution_count": null,
      "outputs": []
    },
    {
      "cell_type": "code",
      "metadata": {
        "colab": {
          "base_uri": "https://localhost:8080/"
        },
        "id": "Pzlpjdv_VPW2",
        "outputId": "2fe4fa92-0cf1-46d7-9031-92a0c136bedf"
      },
      "source": [
        "fold_no = 1\n",
        "loss_per_fold =[]\n",
        "acc_per_fold = []\n",
        "\n",
        "for trainIndex, validIndex in kf.split(XY_resampled):\n",
        "  # Define the model \n",
        "  model_LR = linear_model.LogisticRegression()\n",
        "\n",
        "  # Generate a print\n",
        "  print('-'*50)\n",
        "  print(f'Training for fold {fold_no} ...')\n",
        "\n",
        "  # Fit training data to model\n",
        "  history = model_LR.fit(XY_resampled.iloc[trainIndex,0:3], XY_resampled.iloc[trainIndex,3])\n",
        "  # Fit validation data to model\n",
        "  history_Valid = model_LR.fit(XY_resampled.iloc[validIndex,0:3], XY_resampled.iloc[validIndex,3])\n",
        "\n",
        "  # Evaluate the model (Loss & Accuracy)\n",
        "  scores = model_LR.score(XY_resampled.iloc[validIndex,0:3], XY_resampled.iloc[validIndex, 3])\n",
        "  score = round(scores*100,2)\n",
        "  print(f'Accuracy:  {score} %')\n",
        "\n",
        "  fold_no = fold_no + 1"
      ],
      "execution_count": null,
      "outputs": [
        {
          "output_type": "stream",
          "name": "stdout",
          "text": [
            "--------------------------------------------------\n",
            "Training for fold 1 ...\n",
            "Accuracy:  95.82 %\n",
            "--------------------------------------------------\n",
            "Training for fold 2 ...\n",
            "Accuracy:  93.71 %\n",
            "--------------------------------------------------\n",
            "Training for fold 3 ...\n",
            "Accuracy:  94.13 %\n",
            "--------------------------------------------------\n",
            "Training for fold 4 ...\n",
            "Accuracy:  95.6 %\n",
            "--------------------------------------------------\n",
            "Training for fold 5 ...\n",
            "Accuracy:  93.5 %\n"
          ]
        }
      ]
    },
    {
      "cell_type": "code",
      "metadata": {
        "id": "3QwGli7smDZn",
        "colab": {
          "base_uri": "https://localhost:8080/"
        },
        "outputId": "bc4b9868-9f4d-4421-b565-bf23603f1cf3"
      },
      "source": [
        "## Test Data\n",
        "pred_LR = model_LR.predict(X_test)\n",
        "cm_LR = confusion_matrix(Y_test, pred_LR)\n",
        "print(cm_LR)"
      ],
      "execution_count": null,
      "outputs": [
        {
          "output_type": "stream",
          "name": "stdout",
          "text": [
            "[[475  42]\n",
            " [  7  74]]\n"
          ]
        }
      ]
    },
    {
      "cell_type": "code",
      "metadata": {
        "colab": {
          "base_uri": "https://localhost:8080/"
        },
        "id": "1n9fxvt4XFO1",
        "outputId": "4faa0ef3-12e7-487f-e44b-134cfc1f8985"
      },
      "source": [
        "# Prediction report for Test Dataset(precision, recall rate, F1, accuracy)\n",
        "print(classification_report(Y_test, pred_LR)) "
      ],
      "execution_count": null,
      "outputs": [
        {
          "output_type": "stream",
          "name": "stdout",
          "text": [
            "              precision    recall  f1-score   support\n",
            "\n",
            "           0       0.99      0.92      0.95       517\n",
            "           1       0.64      0.91      0.75        81\n",
            "\n",
            "    accuracy                           0.92       598\n",
            "   macro avg       0.81      0.92      0.85       598\n",
            "weighted avg       0.94      0.92      0.92       598\n",
            "\n"
          ]
        }
      ]
    },
    {
      "cell_type": "markdown",
      "metadata": {
        "id": "AoxYx_IZm5YR"
      },
      "source": [
        "# **Random Forest**"
      ]
    },
    {
      "cell_type": "code",
      "metadata": {
        "id": "KLLF4z1gm8EQ"
      },
      "source": [
        "from sklearn.ensemble import RandomForestClassifier"
      ],
      "execution_count": null,
      "outputs": []
    },
    {
      "cell_type": "code",
      "metadata": {
        "colab": {
          "base_uri": "https://localhost:8080/"
        },
        "id": "6Kaa5MDkYVr8",
        "outputId": "9db899f9-2f3e-47d0-8c69-0e8c660889be"
      },
      "source": [
        "fold_no = 1\n",
        "loss_per_fold =[]\n",
        "acc_per_fold = []\n",
        "\n",
        "for trainIndex, validIndex in kf.split(XY_resampled):\n",
        "  # Define the model \n",
        "  model_RF = RandomForestClassifier(max_depth=3)\n",
        "\n",
        "  # Generate a print\n",
        "  print('-'*50)\n",
        "  print(f'Training for fold {fold_no} ...')\n",
        "\n",
        "  # Fit training data to model\n",
        "  history = model_RF.fit(XY_resampled.iloc[trainIndex,0:3], XY_resampled.iloc[trainIndex,3])\n",
        "  # Fit validation data to model\n",
        "  history_Valid = model_RF.fit(XY_resampled.iloc[validIndex,0:3], XY_resampled.iloc[validIndex,3])\n",
        "\n",
        "  # Evaluate the model (Loss & Accuracy)\n",
        "  scores = model_RF.score(XY_resampled.iloc[validIndex,0:3], XY_resampled.iloc[validIndex, 3])\n",
        "  score = round(scores*100,2)\n",
        "  print(f'Accuracy:  {score} %')\n",
        "\n",
        "  fold_no = fold_no + 1"
      ],
      "execution_count": null,
      "outputs": [
        {
          "output_type": "stream",
          "name": "stdout",
          "text": [
            "--------------------------------------------------\n",
            "Training for fold 1 ...\n",
            "Accuracy:  97.07 %\n",
            "--------------------------------------------------\n",
            "Training for fold 2 ...\n",
            "Accuracy:  95.6 %\n",
            "--------------------------------------------------\n",
            "Training for fold 3 ...\n",
            "Accuracy:  95.39 %\n",
            "--------------------------------------------------\n",
            "Training for fold 4 ...\n",
            "Accuracy:  95.18 %\n",
            "--------------------------------------------------\n",
            "Training for fold 5 ...\n",
            "Accuracy:  95.6 %\n"
          ]
        }
      ]
    },
    {
      "cell_type": "code",
      "metadata": {
        "id": "-tATOpzanGOe",
        "colab": {
          "base_uri": "https://localhost:8080/"
        },
        "outputId": "ec8547c4-1c87-4ad5-c35b-867e7023e517"
      },
      "source": [
        "## Test Data\n",
        "pred_RF = model_RF.predict(X_test)\n",
        "cm_RF = confusion_matrix(Y_test, pred_RF)\n",
        "print(cm_RF)"
      ],
      "execution_count": null,
      "outputs": [
        {
          "output_type": "stream",
          "name": "stdout",
          "text": [
            "[[474  43]\n",
            " [  3  78]]\n"
          ]
        }
      ]
    },
    {
      "cell_type": "code",
      "metadata": {
        "colab": {
          "base_uri": "https://localhost:8080/"
        },
        "id": "bOkQw4y5ZMeH",
        "outputId": "14e76314-21c7-4de4-b84c-35ce25ad19f7"
      },
      "source": [
        "# Prediction report for Test Dataset(precision, recall rate, F1, accuracy)\n",
        "print(classification_report(Y_test, pred_RF)) "
      ],
      "execution_count": null,
      "outputs": [
        {
          "output_type": "stream",
          "name": "stdout",
          "text": [
            "              precision    recall  f1-score   support\n",
            "\n",
            "           0       0.99      0.92      0.95       517\n",
            "           1       0.64      0.96      0.77        81\n",
            "\n",
            "    accuracy                           0.92       598\n",
            "   macro avg       0.82      0.94      0.86       598\n",
            "weighted avg       0.95      0.92      0.93       598\n",
            "\n"
          ]
        }
      ]
    }
  ]
}